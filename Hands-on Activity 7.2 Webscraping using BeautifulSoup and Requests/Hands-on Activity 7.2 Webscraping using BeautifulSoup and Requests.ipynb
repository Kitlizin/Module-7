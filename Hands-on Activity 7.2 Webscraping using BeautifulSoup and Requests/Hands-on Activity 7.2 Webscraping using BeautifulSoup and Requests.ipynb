{
 "cells": [
  {
   "cell_type": "markdown",
   "id": "dbb950e7-0aff-4932-8ea9-fd73768fd21e",
   "metadata": {},
   "source": [
    "# Data Gathering\n"
   ]
  },
  {
   "cell_type": "markdown",
   "id": "86755af2-d49c-470f-acf0-6bb7d6dc56c2",
   "metadata": {},
   "source": [
    "**Example of gathering image data using webcam**\n"
   ]
  },
  {
   "cell_type": "code",
   "execution_count": 1,
   "id": "ca476321-788a-4559-886b-c3558d86ed25",
   "metadata": {},
   "outputs": [
    {
     "ename": "ModuleNotFoundError",
     "evalue": "No module named 'cv2'",
     "output_type": "error",
     "traceback": [
      "\u001b[1;31m---------------------------------------------------------------------------\u001b[0m",
      "\u001b[1;31mModuleNotFoundError\u001b[0m                       Traceback (most recent call last)",
      "Cell \u001b[1;32mIn[1], line 1\u001b[0m\n\u001b[1;32m----> 1\u001b[0m \u001b[38;5;28;01mimport\u001b[39;00m \u001b[38;5;21;01mcv2\u001b[39;00m\n\u001b[0;32m      2\u001b[0m key \u001b[38;5;241m=\u001b[39m cv2\u001b[38;5;241m.\u001b[39m waitKey(\u001b[38;5;241m1\u001b[39m)\n\u001b[0;32m      3\u001b[0m webcam \u001b[38;5;241m=\u001b[39m cv2\u001b[38;5;241m.\u001b[39mVideoCapture(\u001b[38;5;241m0\u001b[39m)\n",
      "\u001b[1;31mModuleNotFoundError\u001b[0m: No module named 'cv2'"
     ]
    }
   ],
   "source": [
    "import cv2\n",
    "key = cv2. waitKey(1)\n",
    "webcam = cv2.VideoCapture(0)\n",
    "\n",
    "while True:\n",
    "  try:\n",
    "    check, frame = webcam.read()\n",
    "    print(check) #prints true as long as the webcam is running\n",
    "    print(frame) #prints matrix values of each framecd\n",
    "    cv2.imshow(\"Capturing\", frame)\n",
    "    key = cv2.waitKey(1)\n",
    "    \n",
    "    if key == ord('s'):\n",
    "      cv2.imwrite(filename='saved_img.jpg', img=frame)\n",
    "      webcam.release()\n",
    "      img_new = cv2.imread('saved_img.jpg', cv2.IMREAD_GRAYSCALE)\n",
    "      img_new = cv2.imshow(\"Captured Image\", img_new)\n",
    "      cv2.waitKey(1650)\n",
    "      cv2.destroyAllWindows()\n",
    "      print(\"Processing image...\")\n",
    "      img_ = cv2.imread('saved_img.jpg', cv2.IMREAD_ANYCOLOR)\n",
    "      print(\"Converting RGB image to grayscale...\")\n",
    "      gray = cv2.cvtColor(img_, cv2.COLOR_BGR2GRAY)\n",
    "      print(\"Converted RGB image to grayscale...\")\n",
    "      print(\"Resizing image to 28x28 scale...\")\n",
    "      img_ = cv2.resize(gray,(28,28))\n",
    "      print(\"Resized...\")\n",
    "      img_resized = cv2.imwrite(filename='saved_img-final.jpg', img=img_)\n",
    "      print(\"Image saved!\")\n",
    "      \n",
    "      break\n",
    "    elif key == ord('q'):\n",
    "      print(\"Turning off camera.\")\n",
    "      webcam.release()\n",
    "      print(\"Camera off.\")\n",
    "      print(\"Program ended.\")\n",
    "      cv2.destroyAllWindows()\n",
    "      break\n",
    "\n",
    "  except(KeyboardInterrupt):\n",
    "    print(\"Turning off camera.\")\n",
    "    webcam.release()\n",
    "    print(\"Camera off.\")\n",
    "    print(\"Program ended.\")\n",
    "    cv2.destroyAllWindows()\n",
    "    break"
   ]
  },
  {
   "cell_type": "markdown",
   "id": "56ab6efb-c055-4f20-98a8-e451952a329b",
   "metadata": {},
   "source": [
    "**Example of gathering voice data using microphone**"
   ]
  },
  {
   "cell_type": "code",
   "execution_count": 60,
   "id": "48a0b1e1-e686-436d-a42c-9b50bb820368",
   "metadata": {},
   "outputs": [
    {
     "name": "stdout",
     "output_type": "stream",
     "text": [
      "Requirement already satisfied: sounddevice in c:\\users\\ke\\anaconda3\\lib\\site-packages (0.4.6)\n",
      "Requirement already satisfied: CFFI>=1.0 in c:\\users\\ke\\anaconda3\\lib\\site-packages (from sounddevice) (1.16.0)\n",
      "Requirement already satisfied: pycparser in c:\\users\\ke\\anaconda3\\lib\\site-packages (from CFFI>=1.0->sounddevice) (2.21)\n"
     ]
    }
   ],
   "source": [
    "!pip3 install sounddevice"
   ]
  },
  {
   "cell_type": "code",
   "execution_count": 61,
   "id": "163d3fdb-aeb8-4737-9d57-5189a660a05e",
   "metadata": {},
   "outputs": [
    {
     "name": "stdout",
     "output_type": "stream",
     "text": [
      "Requirement already satisfied: wavio in c:\\users\\ke\\anaconda3\\lib\\site-packages (0.0.8)\n",
      "Requirement already satisfied: numpy>=1.19.0 in c:\\users\\ke\\anaconda3\\lib\\site-packages (from wavio) (1.26.4)\n"
     ]
    }
   ],
   "source": [
    "!pip3 install wavio"
   ]
  },
  {
   "cell_type": "code",
   "execution_count": 62,
   "id": "0e792283-b3f2-40cc-a06b-6d134b67274f",
   "metadata": {},
   "outputs": [
    {
     "name": "stdout",
     "output_type": "stream",
     "text": [
      "Requirement already satisfied: scipy in c:\\users\\ke\\anaconda3\\lib\\site-packages (1.11.4)\n",
      "Requirement already satisfied: numpy<1.28.0,>=1.21.6 in c:\\users\\ke\\anaconda3\\lib\\site-packages (from scipy) (1.26.4)\n"
     ]
    }
   ],
   "source": [
    "!pip3 install scipy"
   ]
  },
  {
   "cell_type": "code",
   "execution_count": null,
   "id": "47d6a1ee-8356-482d-8d35-dd2daa827c23",
   "metadata": {},
   "outputs": [],
   "source": [
    "!apt-get install libportaudio2"
   ]
  },
  {
   "cell_type": "code",
   "execution_count": 63,
   "id": "8be5ab89-a8fa-4048-9243-663623b13888",
   "metadata": {},
   "outputs": [],
   "source": [
    "# import required libraries\n",
    "import sounddevice as sd\n",
    "from scipy.io.wavfile import write\n",
    "import wavio as wv\n",
    "\n",
    "# Sampling frequency\n",
    "freq = 44100\n",
    "\n",
    "# Recording duration\n",
    "duration = 5\n",
    "\n",
    "# Start recorder with the given values\n",
    "# of duration and sample frequency\n",
    "recording = sd.rec(int(duration * freq),\n",
    " samplerate=freq, channels=2)\n",
    "\n",
    "# Record audio for the given number of seconds\n",
    "sd.wait()\n",
    "\n",
    "# This will convert the NumPy array to an audio\n",
    "# file with the given sampling frequency\n",
    "write(\"recording0.wav\", freq, recording)\n",
    "\n",
    "# Convert the NumPy array to audio file\n",
    "wv.write(\"recording1.wav\", recording, freq, sampwidth=2)"
   ]
  },
  {
   "cell_type": "markdown",
   "id": "fc5b0747-c880-45a6-b0f3-7b1ad1aa6f7f",
   "metadata": {},
   "source": [
    "# **Web Scraping**\r\n",
    "\r\n",
    "Web scraping, web harvesting, or web data extraction is data scraping used for extracting data from websites. The web scraping software may directly access the World\r\n",
    "Wide Web using the Hypertext Transfer Protocol or a web browser. While web scraping can be done manually by a software user, the term typically refers to automated\r\n",
    "processes implemented using a bot or web crawler. It is a form of copying in which specific data is gathered and copied from the web, typically into a central local database or\r\n",
    "spreadsheet, for later retrieval or analysis.\r\n"
   ]
  },
  {
   "cell_type": "markdown",
   "id": "51fa23b2-8d1b-49f4-9b74-03b38aaf0432",
   "metadata": {},
   "source": [
    "**Image Scraping using BeautifulSoup and Request**"
   ]
  },
  {
   "cell_type": "code",
   "execution_count": 64,
   "id": "6c6343e1-9a2d-47e0-be37-51c7cee27f61",
   "metadata": {},
   "outputs": [
    {
     "name": "stdout",
     "output_type": "stream",
     "text": [
      "Requirement already satisfied: bs4 in c:\\users\\ke\\anaconda3\\lib\\site-packages (0.0.2)\n",
      "Requirement already satisfied: beautifulsoup4 in c:\\users\\ke\\anaconda3\\lib\\site-packages (from bs4) (4.12.2)\n",
      "Requirement already satisfied: soupsieve>1.2 in c:\\users\\ke\\anaconda3\\lib\\site-packages (from beautifulsoup4->bs4) (2.5)\n"
     ]
    }
   ],
   "source": [
    "!pip install bs4"
   ]
  },
  {
   "cell_type": "code",
   "execution_count": 65,
   "id": "99f96d1d-4893-442b-9341-6da89898c457",
   "metadata": {},
   "outputs": [
    {
     "name": "stdout",
     "output_type": "stream",
     "text": [
      "Requirement already satisfied: requests in c:\\users\\ke\\anaconda3\\lib\\site-packages (2.31.0)\n",
      "Requirement already satisfied: charset-normalizer<4,>=2 in c:\\users\\ke\\anaconda3\\lib\\site-packages (from requests) (2.0.4)\n",
      "Requirement already satisfied: idna<4,>=2.5 in c:\\users\\ke\\anaconda3\\lib\\site-packages (from requests) (3.4)\n",
      "Requirement already satisfied: urllib3<3,>=1.21.1 in c:\\users\\ke\\anaconda3\\lib\\site-packages (from requests) (2.0.7)\n",
      "Requirement already satisfied: certifi>=2017.4.17 in c:\\users\\ke\\anaconda3\\lib\\site-packages (from requests) (2024.2.2)\n",
      "Note: you may need to restart the kernel to use updated packages.\n"
     ]
    }
   ],
   "source": [
    "pip install requests"
   ]
  },
  {
   "cell_type": "code",
   "execution_count": 66,
   "id": "680e6a44-6494-4058-b958-2b2ecd4c0cd4",
   "metadata": {},
   "outputs": [
    {
     "name": "stdout",
     "output_type": "stream",
     "text": [
      "/images/branding/googlelogo/1x/googlelogo_white_background_color_272x92dp.png\n"
     ]
    }
   ],
   "source": [
    "import requests\n",
    "from bs4 import BeautifulSoup\n",
    "\n",
    "def getdata(url):\n",
    "  r = requests.get(url)\n",
    "  return r.text\n",
    "\n",
    "htmldata = getdata(\"https://www.google.com/\")\n",
    "soup = BeautifulSoup(htmldata, 'html.parser')\n",
    "for item in soup.find_all('img'):\n",
    "  print(item['src'])"
   ]
  },
  {
   "cell_type": "code",
   "execution_count": 67,
   "id": "8b780115-a82b-4a58-b54a-31e748b26a24",
   "metadata": {},
   "outputs": [
    {
     "name": "stdout",
     "output_type": "stream",
     "text": [
      "Requirement already satisfied: selenium in c:\\users\\ke\\anaconda3\\lib\\site-packages (4.18.1)\n",
      "Requirement already satisfied: urllib3<3,>=1.26 in c:\\users\\ke\\anaconda3\\lib\\site-packages (from urllib3[socks]<3,>=1.26->selenium) (2.0.7)\n",
      "Requirement already satisfied: trio~=0.17 in c:\\users\\ke\\anaconda3\\lib\\site-packages (from selenium) (0.25.0)\n",
      "Requirement already satisfied: trio-websocket~=0.9 in c:\\users\\ke\\anaconda3\\lib\\site-packages (from selenium) (0.11.1)\n",
      "Requirement already satisfied: certifi>=2021.10.8 in c:\\users\\ke\\anaconda3\\lib\\site-packages (from selenium) (2024.2.2)\n",
      "Requirement already satisfied: typing_extensions>=4.9.0 in c:\\users\\ke\\anaconda3\\lib\\site-packages (from selenium) (4.9.0)\n",
      "Requirement already satisfied: attrs>=23.2.0 in c:\\users\\ke\\anaconda3\\lib\\site-packages (from trio~=0.17->selenium) (23.2.0)\n",
      "Requirement already satisfied: sortedcontainers in c:\\users\\ke\\anaconda3\\lib\\site-packages (from trio~=0.17->selenium) (2.4.0)\n",
      "Requirement already satisfied: idna in c:\\users\\ke\\anaconda3\\lib\\site-packages (from trio~=0.17->selenium) (3.4)\n",
      "Requirement already satisfied: outcome in c:\\users\\ke\\anaconda3\\lib\\site-packages (from trio~=0.17->selenium) (1.3.0.post0)\n",
      "Requirement already satisfied: sniffio>=1.3.0 in c:\\users\\ke\\anaconda3\\lib\\site-packages (from trio~=0.17->selenium) (1.3.0)\n",
      "Requirement already satisfied: cffi>=1.14 in c:\\users\\ke\\anaconda3\\lib\\site-packages (from trio~=0.17->selenium) (1.16.0)\n",
      "Requirement already satisfied: wsproto>=0.14 in c:\\users\\ke\\anaconda3\\lib\\site-packages (from trio-websocket~=0.9->selenium) (1.2.0)\n",
      "Requirement already satisfied: pysocks!=1.5.7,<2.0,>=1.5.6 in c:\\users\\ke\\anaconda3\\lib\\site-packages (from urllib3[socks]<3,>=1.26->selenium) (1.7.1)\n",
      "Requirement already satisfied: pycparser in c:\\users\\ke\\anaconda3\\lib\\site-packages (from cffi>=1.14->trio~=0.17->selenium) (2.21)\n",
      "Requirement already satisfied: h11<1,>=0.9.0 in c:\\users\\ke\\anaconda3\\lib\\site-packages (from wsproto>=0.14->trio-websocket~=0.9->selenium) (0.14.0)\n",
      "Note: you may need to restart the kernel to use updated packages.\n"
     ]
    }
   ],
   "source": [
    "pip install selenium"
   ]
  },
  {
   "cell_type": "markdown",
   "id": "181d2f22-372d-41b6-896e-1932567497f4",
   "metadata": {},
   "source": [
    "**Image Scraping using Selenium**"
   ]
  },
  {
   "cell_type": "code",
   "execution_count": 68,
   "id": "a120a7c0-845b-429e-be9b-2c2bddc35bdb",
   "metadata": {},
   "outputs": [
    {
     "name": "stdout",
     "output_type": "stream",
     "text": [
      "Requirement already satisfied: selenium in c:\\users\\ke\\anaconda3\\lib\\site-packages (4.18.1)\n",
      "Requirement already satisfied: urllib3<3,>=1.26 in c:\\users\\ke\\anaconda3\\lib\\site-packages (from urllib3[socks]<3,>=1.26->selenium) (2.0.7)\n",
      "Requirement already satisfied: trio~=0.17 in c:\\users\\ke\\anaconda3\\lib\\site-packages (from selenium) (0.25.0)\n",
      "Requirement already satisfied: trio-websocket~=0.9 in c:\\users\\ke\\anaconda3\\lib\\site-packages (from selenium) (0.11.1)\n",
      "Requirement already satisfied: certifi>=2021.10.8 in c:\\users\\ke\\anaconda3\\lib\\site-packages (from selenium) (2024.2.2)\n",
      "Requirement already satisfied: typing_extensions>=4.9.0 in c:\\users\\ke\\anaconda3\\lib\\site-packages (from selenium) (4.9.0)\n",
      "Requirement already satisfied: attrs>=23.2.0 in c:\\users\\ke\\anaconda3\\lib\\site-packages (from trio~=0.17->selenium) (23.2.0)\n",
      "Requirement already satisfied: sortedcontainers in c:\\users\\ke\\anaconda3\\lib\\site-packages (from trio~=0.17->selenium) (2.4.0)\n",
      "Requirement already satisfied: idna in c:\\users\\ke\\anaconda3\\lib\\site-packages (from trio~=0.17->selenium) (3.4)\n",
      "Requirement already satisfied: outcome in c:\\users\\ke\\anaconda3\\lib\\site-packages (from trio~=0.17->selenium) (1.3.0.post0)\n",
      "Requirement already satisfied: sniffio>=1.3.0 in c:\\users\\ke\\anaconda3\\lib\\site-packages (from trio~=0.17->selenium) (1.3.0)\n",
      "Requirement already satisfied: cffi>=1.14 in c:\\users\\ke\\anaconda3\\lib\\site-packages (from trio~=0.17->selenium) (1.16.0)\n",
      "Requirement already satisfied: wsproto>=0.14 in c:\\users\\ke\\anaconda3\\lib\\site-packages (from trio-websocket~=0.9->selenium) (1.2.0)\n",
      "Requirement already satisfied: pysocks!=1.5.7,<2.0,>=1.5.6 in c:\\users\\ke\\anaconda3\\lib\\site-packages (from urllib3[socks]<3,>=1.26->selenium) (1.7.1)\n",
      "Requirement already satisfied: pycparser in c:\\users\\ke\\anaconda3\\lib\\site-packages (from cffi>=1.14->trio~=0.17->selenium) (2.21)\n",
      "Requirement already satisfied: h11<1,>=0.9.0 in c:\\users\\ke\\anaconda3\\lib\\site-packages (from wsproto>=0.14->trio-websocket~=0.9->selenium) (0.14.0)\n"
     ]
    },
    {
     "name": "stderr",
     "output_type": "stream",
     "text": [
      "'apt-get' is not recognized as an internal or external command,\n",
      "operable program or batch file.\n",
      "'apt' is not recognized as an internal or external command,\n",
      "operable program or batch file.\n",
      "'cp' is not recognized as an internal or external command,\n",
      "operable program or batch file.\n"
     ]
    },
    {
     "ename": "TypeError",
     "evalue": "WebDriver.__init__() got an unexpected keyword argument 'chrome_options'",
     "output_type": "error",
     "traceback": [
      "\u001b[1;31m---------------------------------------------------------------------------\u001b[0m",
      "\u001b[1;31mTypeError\u001b[0m                                 Traceback (most recent call last)",
      "Cell \u001b[1;32mIn[68], line 22\u001b[0m\n\u001b[0;32m     20\u001b[0m chrome_options\u001b[38;5;241m.\u001b[39madd_argument(\u001b[38;5;124m'\u001b[39m\u001b[38;5;124m--no-sandbox\u001b[39m\u001b[38;5;124m'\u001b[39m)\n\u001b[0;32m     21\u001b[0m chrome_options\u001b[38;5;241m.\u001b[39madd_argument(\u001b[38;5;124m'\u001b[39m\u001b[38;5;124m--disable-dev-shm-usage\u001b[39m\u001b[38;5;124m'\u001b[39m)\n\u001b[1;32m---> 22\u001b[0m driver \u001b[38;5;241m=\u001b[39m webdriver\u001b[38;5;241m.\u001b[39mChrome(\u001b[38;5;124m'\u001b[39m\u001b[38;5;124mchromedriver\u001b[39m\u001b[38;5;124m'\u001b[39m,chrome_options\u001b[38;5;241m=\u001b[39mchrome_options)\n\u001b[0;32m     23\u001b[0m search_url \u001b[38;5;241m=\u001b[39m \u001b[38;5;124m\"\u001b[39m\u001b[38;5;124mhttps://www.google.com/search?q=\u001b[39m\u001b[38;5;132;01m{q}\u001b[39;00m\u001b[38;5;124m&tbm=isch&tbs=sur\u001b[39m\u001b[38;5;124m%\u001b[39m\u001b[38;5;124m3Afc&hl=en&ved=0CAIQpwVqFwoTCKCa1c6s4-oCFQAAAAAdAAAAABAC&biw=1251&bih=568\u001b[39m\u001b[38;5;124m\"\u001b[39m\n\u001b[0;32m     24\u001b[0m driver\u001b[38;5;241m.\u001b[39mget(search_url\u001b[38;5;241m.\u001b[39mformat(q\u001b[38;5;241m=\u001b[39m\u001b[38;5;124m'\u001b[39m\u001b[38;5;124mCar\u001b[39m\u001b[38;5;124m'\u001b[39m))\n",
      "\u001b[1;31mTypeError\u001b[0m: WebDriver.__init__() got an unexpected keyword argument 'chrome_options'"
     ]
    }
   ],
   "source": [
    "!pip install selenium\n",
    "!apt-get update # to update ubuntu to correctly run apt install\n",
    "!apt install chromium-chromedriver\n",
    "!cp /usr/lib/chromium-browser/chromedriver /usr/bin\n",
    "import sys\n",
    "sys.path.insert(0,'/usr/lib/chromium-browser/chromedriver')\n",
    "from selenium import webdriver\n",
    "import time\n",
    "import requests\n",
    "import shutil\n",
    "import os\n",
    "import getpass\n",
    "import urllib.request\n",
    "import io\n",
    "import time\n",
    "from PIL import Image\n",
    "user = getpass.getuser()\n",
    "chrome_options = webdriver.ChromeOptions()\n",
    "chrome_options.add_argument('--headless')\n",
    "chrome_options.add_argument('--no-sandbox')\n",
    "chrome_options.add_argument('--disable-dev-shm-usage')\n",
    "driver = webdriver.Chrome('chromedriver',chrome_options=chrome_options)\n",
    "search_url = \"https://www.google.com/search?q={q}&tbm=isch&tbs=sur%3Afc&hl=en&ved=0CAIQpwVqFwoTCKCa1c6s4-oCFQAAAAAdAAAAABAC&biw=1251&bih=568\"\n",
    "driver.get(search_url.format(q='Car'))\n",
    "\n",
    "def scroll_to_end(driver):\n",
    "  driver.execute_script(\"window.scrollTo(0, document.body.scrollHeight);\")\n",
    "  time.sleep(5)#sleep_between_interactions\n",
    "\n",
    "def getImageUrls(name,totalImgs,driver):\n",
    "  search_url = \"https://www.google.com/search?q={q}&tbm=isch&tbs=sur%3Afc&hl=en&ved=0CAIQpwVqFwoTCKCa1c6s4-oCFQAAAAAdAAAAABAC&biw=1251&bih=568\"\n",
    "  driver.get(search_url.format(q=name))\n",
    "  img_urls = set()\n",
    "  img_count = 0\n",
    "  results_start = 0\n",
    "  \n",
    "  while(img_count<totalImgs): #Extract actual images now\n",
    "   scroll_to_end(driver)\n",
    "   thumbnail_results = driver.find_elements_by_xpath(\"//img[contains(@class,'Q4LuWd')]\")\n",
    "   totalResults=len(thumbnail_results)\n",
    "   print(f\"Found: {totalResults} search results. Extracting links from{results_start}:{totalResults}\")\n",
    "\n",
    "  for img in thumbnail_results[results_start:totalResults]:\n",
    "    img.click()\n",
    "    time.sleep(2)\n",
    "    actual_images = driver.find_elements_by_css_selector('img.n3VNCb')\n",
    "  for actual_image in actual_images:\n",
    "    if actual_image.get_attribute('src') and 'https' in actual_image.get_attribute('src'):\n",
    "      img_urls.add(actual_image.get_attribute('src'))\n",
    "      img_count=len(img_urls)\n",
    "\n",
    "  if img_count >= totalImgs:\n",
    "    print(f\"Found: {img_count} image links\") \n",
    "    break\n",
    "  else:\n",
    "    print(\"Found:\", img_count, \"looking for more image links ...\")\n",
    "    load_more_button = driver.find_element_by_css_selector(\".mye4qd\")\n",
    "    driver.execute_script(\"document.querySelector('.mye4qd').click();\")\n",
    "    results_start = len(thumbnail_results)\n",
    "    return img_urls\n",
    "def downloadImages(folder_path,file_name,url):\n",
    "  try:\n",
    "    image_content = requests.get(url).content\n",
    "  except Exception as e:\n",
    "    print(f\"ERROR - COULD NOT DOWNLOAD {url} - {e}\")\n",
    "  try:\n",
    "    image_file = io.BytesIO(image_content)\n",
    "    image = Image.open(image_file).convert('RGB')\n",
    "    file_path = os.path.join(folder_path, file_name)\n",
    "    with open(file_path, 'wb') as f:\n",
    "      image.save(f, \"JPEG\", quality=85)\n",
    "    print(f\"SAVED - {url} - AT: {file_path}\")\n",
    "  except Exception as e:\n",
    "    print(f\"ERROR - COULD NOT SAVE {url} - {e}\")\n",
    "\n",
    "def saveInDestFolder(searchNames,destDir,totalImgs,driver):\n",
    "  for name in list(searchNames):\n",
    "    path=os.path.join(destDir,name)\n",
    "    if not os.path.isdir(path):\n",
    "      os.mkdir(path)\n",
    "    print('Current Path',path)\n",
    "    totalLinks=getImageUrls(name,totalImgs,driver)\n",
    "    print('totalLinks',totalLinks)\n",
    "  if totalLinks is None:\n",
    "    print('images not found for :',name)\n",
    "\n",
    "  else:\n",
    "    for i, link in enumerate(totalLinks):\n",
    "      file_name = f\"{i:150}.jpg\"\n",
    "      downloadImages(path,file_name,link)\n",
    "\n",
    "searchNames=['cat']\n",
    "destDir=f'/content/drive/My Drive/Colab Notebooks/Dataset/'\n",
    "totalImgs=5\n",
    "saveInDestFolder(searchNames,destDir,totalImgs,driver)"
   ]
  },
  {
   "cell_type": "markdown",
   "id": "4fed7e60-a073-45e2-bb4c-03aaba310f8e",
   "metadata": {},
   "source": [
    "**Web Scraping of Movies Information using BeautifulSoup**\r\n",
    "\r\n",
    "Identifying the URL structure\r\n",
    "In the image above, you can see that the URL has several parameters after the question mark:\r\n",
    "release_date \r\n",
    "\r\n",
    "— Shows only the movies released in a specific year.\r\n",
    "sort \r\n",
    "\r\n",
    "— Sorts the movies on the page. sort=num_votes,desc translates to sort by number of votes in a descending order.\r\n",
    "page \r\n",
    "\r\n",
    "— Specifies the page number.ref_ \r\n",
    "\r\n",
    "— Takes us to the the next or the previous page. The reference is the page we are currently on. adv_nxt and adv_prv are two possible values. They translate to\r\n",
    "advance to the next page, and advance to the previous page, respectivel\r\n"
   ]
  },
  {
   "cell_type": "code",
   "execution_count": 2,
   "id": "7df96391-01ea-461c-8fd0-b188c3d133d2",
   "metadata": {},
   "outputs": [
    {
     "name": "stdout",
     "output_type": "stream",
     "text": [
      "<!DOCTYPE html><html lang=\"en-US\" xmlns:og=\"http://opengraphprotocol.org/schema/\" xmlns:fb=\"http://www.facebook.com/2008/fbml\"><head><meta charSet=\"utf-8\"/><meta name=\"viewport\" content=\"width=device-width\"/><script>if(typeof uet === 'function'){ uet('bb', 'LoadTitle', {wb: 1}); }</script><script>window.addEventListener('load', (event) => {\n",
      "        if (typeof window.csa !== 'undefined' && typeof window.csa === 'function') {\n",
      "            var csaLatencyPlugin = window.csa('Content', {\n",
      "             \n"
     ]
    }
   ],
   "source": [
    "from requests import get\n",
    "url = 'https://www.imdb.com/search/title?release_date=2017&sort=num_votes,desc&page=1'\n",
    "useragent = {\"User-Agent\":\"Mozilla/5.0 (Windows NT 10.0; Win64; x64) AppleWebKit/537.36 (KHTML, like Gecko) Chrome/123.0.0.0 Safari/537.36\"}\n",
    "response = get(url, headers= useragent)\n",
    "print(response.text[:500])"
   ]
  },
  {
   "cell_type": "markdown",
   "id": "6e0024f2-e005-4ee0-be9f-a1bf1951525b",
   "metadata": {},
   "source": [
    "Understanding the HTML structure of a single page"
   ]
  },
  {
   "cell_type": "code",
   "execution_count": 3,
   "id": "f457defc-411c-4cff-b635-a23543774b86",
   "metadata": {},
   "outputs": [
    {
     "data": {
      "text/plain": [
       "bs4.BeautifulSoup"
      ]
     },
     "execution_count": 3,
     "metadata": {},
     "output_type": "execute_result"
    }
   ],
   "source": [
    "from bs4 import BeautifulSoup\n",
    "html_soup = BeautifulSoup(response.text, 'html.parser')\n",
    "headers = {'Accept-Language': 'en-US,en;q=0.8'}\n",
    "type(html_soup)"
   ]
  },
  {
   "cell_type": "markdown",
   "id": "9946554f-c41d-496e-b51a-688ddc33e2c9",
   "metadata": {},
   "source": [
    "Using BeautifulSoup to parse the HTML content\n",
    "\r\n",
    "To parse our HTML document and extract the 50 div containers, weʼll use a Python module called BeautifulSoup, the most common web scraping module for Python\n",
    ".\r\n",
    "In the following code cell we wil\n",
    "l- :\r\n",
    "Import the BeautifulSoup class creator from the package b\n",
    "\n",
    "\n",
    "  s\n",
    "\n",
    "- 4.\r\n",
    "Parse response.text by creating a BeautifulSoup object, and assign this object to html_soup. The 'html.parser' argument indicates that we want to do the parsing u\n",
    "\n",
    "- sing\r\n",
    "Pythonʼs built-in HTML parser."
   ]
  },
  {
   "cell_type": "markdown",
   "id": "c2e9c299-5b03-4f7c-b078-a617a79e6003",
   "metadata": {},
   "source": [
    "Now letʼs use the find_all() method to extract all the div containers that have a class attribute of lister-item mode-advanced:"
   ]
  },
  {
   "cell_type": "code",
   "execution_count": 4,
   "id": "4ad48284-c57a-4bd9-bf57-43097285a060",
   "metadata": {},
   "outputs": [
    {
     "name": "stdout",
     "output_type": "stream",
     "text": [
      "<class 'bs4.element.ResultSet'>\n",
      "50\n"
     ]
    }
   ],
   "source": [
    "movie_containers = html_soup.find_all('div', class_ = 'sc-ab6fa25a-3 bVYfLY dli-parent')\n",
    "print(type(movie_containers))\n",
    "print(len(movie_containers))"
   ]
  },
  {
   "cell_type": "markdown",
   "id": "fff1b4f7-fe74-41e0-96fb-4bfd5c0bf538",
   "metadata": {},
   "source": [
    "We can access the first container, which contains information about a single movie, by using list notation on movie_containers."
   ]
  },
  {
   "cell_type": "code",
   "execution_count": 5,
   "id": "edcc57dd-fa0b-4c29-894d-fb1fada50b41",
   "metadata": {},
   "outputs": [
    {
     "data": {
      "text/plain": [
       "<div class=\"sc-ab6fa25a-3 bVYfLY dli-parent\"><div class=\"sc-ab6fa25a-2 gOsifL\"><div class=\"sc-e5a25b0f-0 jQjDIb dli-poster-container\"><div class=\"ipc-poster ipc-poster--base ipc-poster--dynamic-width ipc-sub-grid-item ipc-sub-grid-item--span-2\" role=\"group\"><div aria-label=\"add to watchlist\" class=\"ipc-watchlist-ribbon ipc-focusable ipc-watchlist-ribbon--s ipc-watchlist-ribbon--base ipc-watchlist-ribbon--loading ipc-watchlist-ribbon--onImage ipc-poster__watchlist-ribbon\" role=\"button\" tabindex=\"0\"><svg class=\"ipc-watchlist-ribbon__bg\" height=\"34px\" role=\"presentation\" viewbox=\"0 0 24 34\" width=\"24px\" xmlns=\"http://www.w3.org/2000/svg\"><polygon class=\"ipc-watchlist-ribbon__bg-ribbon\" fill=\"#000000\" points=\"24 0 0 0 0 32 12.2436611 26.2926049 24 31.7728343\"></polygon><polygon class=\"ipc-watchlist-ribbon__bg-hover\" points=\"24 0 0 0 0 32 12.2436611 26.2926049 24 31.7728343\"></polygon><polygon class=\"ipc-watchlist-ribbon__bg-shadow\" points=\"24 31.7728343 24 33.7728343 12.2436611 28.2926049 0 34 0 32 12.2436611 26.2926049\"></polygon></svg><div class=\"ipc-watchlist-ribbon__icon\" role=\"presentation\"><svg class=\"ipc-loader ipc-loader--circle ipc-watchlist-ribbon__loader\" data-testid=\"watchlist-ribbon-loader\" height=\"48px\" role=\"presentation\" version=\"1.1\" viewbox=\"0 0 48 48\" width=\"48px\" xmlns=\"http://www.w3.org/2000/svg\"><g class=\"ipc-loader__container\" fill=\"currentColor\"><circle class=\"ipc-loader__circle ipc-loader__circle--one\" cx=\"24\" cy=\"9\" r=\"4\"></circle><circle class=\"ipc-loader__circle ipc-loader__circle--two\" cx=\"35\" cy=\"14\" r=\"4\"></circle><circle class=\"ipc-loader__circle ipc-loader__circle--three\" cx=\"39\" cy=\"24\" r=\"4\"></circle><circle class=\"ipc-loader__circle ipc-loader__circle--four\" cx=\"35\" cy=\"34\" r=\"4\"></circle><circle class=\"ipc-loader__circle ipc-loader__circle--five\" cx=\"24\" cy=\"39\" r=\"4\"></circle><circle class=\"ipc-loader__circle ipc-loader__circle--six\" cx=\"13\" cy=\"34\" r=\"4\"></circle><circle class=\"ipc-loader__circle ipc-loader__circle--seven\" cx=\"9\" cy=\"24\" r=\"4\"></circle><circle class=\"ipc-loader__circle ipc-loader__circle--eight\" cx=\"13\" cy=\"14\" r=\"4\"></circle></g></svg></div></div><div class=\"ipc-media ipc-media--poster-27x40 ipc-image-media-ratio--poster-27x40 ipc-media--base ipc-media--poster-m ipc-poster__poster-image ipc-media__img\" style=\"width:100%\"><img alt=\"Hugh Jackman in Logan (2017)\" class=\"ipc-image\" loading=\"lazy\" sizes=\"50vw, (min-width: 480px) 34vw, (min-width: 600px) 26vw, (min-width: 1024px) 16vw, (min-width: 1280px) 16vw\" src=\"https://m.media-amazon.com/images/M/MV5BYzc5MTU4N2EtYTkyMi00NjdhLTg3NWEtMTY4OTEyMzJhZTAzXkEyXkFqcGdeQXVyNjc1NTYyMjg@._V1_QL75_UX140_CR0,1,140,207_.jpg\" srcset=\"https://m.media-amazon.com/images/M/MV5BYzc5MTU4N2EtYTkyMi00NjdhLTg3NWEtMTY4OTEyMzJhZTAzXkEyXkFqcGdeQXVyNjc1NTYyMjg@._V1_QL75_UX140_CR0,1,140,207_.jpg 140w, https://m.media-amazon.com/images/M/MV5BYzc5MTU4N2EtYTkyMi00NjdhLTg3NWEtMTY4OTEyMzJhZTAzXkEyXkFqcGdeQXVyNjc1NTYyMjg@._V1_QL75_UX210_CR0,2,210,311_.jpg 210w, https://m.media-amazon.com/images/M/MV5BYzc5MTU4N2EtYTkyMi00NjdhLTg3NWEtMTY4OTEyMzJhZTAzXkEyXkFqcGdeQXVyNjc1NTYyMjg@._V1_QL75_UX280_CR0,3,280,414_.jpg 280w\" width=\"140\"/></div><a aria-label=\"View title page for Logan\" class=\"ipc-lockup-overlay ipc-focusable\" href=\"/title/tt3315342/?ref_=sr_i_1\"><div class=\"ipc-lockup-overlay__screen\"></div></a></div></div><div class=\"sc-b0691f29-0 jbYPfh\"><div class=\"ipc-title ipc-title--base ipc-title--title ipc-title-link-no-icon ipc-title--on-textPrimary sc-b0691f29-9 klOwFB dli-title\"><a class=\"ipc-title-link-wrapper\" href=\"/title/tt3315342/?ref_=sr_t_1\" tabindex=\"0\"><h3 class=\"ipc-title__text\">1. Logan</h3></a></div><div class=\"sc-b0691f29-7 hrgukm dli-title-metadata\"><span class=\"sc-b0691f29-8 ilsLEX dli-title-metadata-item\">2017</span><span class=\"sc-b0691f29-8 ilsLEX dli-title-metadata-item\">2h 17m</span><span class=\"sc-b0691f29-8 ilsLEX dli-title-metadata-item\">R-16</span></div><span class=\"sc-b0691f29-1 grHDBY\"><div class=\"sc-e2dbc1a3-0 ajrIH sc-b0691f29-2 bhhtyj dli-ratings-container\" data-testid=\"ratingGroup--container\"><span aria-label=\"IMDb rating: 8.1\" class=\"ipc-rating-star ipc-rating-star--base ipc-rating-star--imdb ratingGroup--imdb-rating\" data-testid=\"ratingGroup--imdb-rating\"><svg class=\"ipc-icon ipc-icon--star-inline\" fill=\"currentColor\" height=\"24\" role=\"presentation\" viewbox=\"0 0 24 24\" width=\"24\" xmlns=\"http://www.w3.org/2000/svg\"><path d=\"M12 20.1l5.82 3.682c1.066.675 2.37-.322 2.09-1.584l-1.543-6.926 5.146-4.667c.94-.85.435-2.465-.799-2.567l-6.773-.602L13.29.89a1.38 1.38 0 0 0-2.581 0l-2.65 6.53-6.774.602C.052 8.126-.453 9.74.486 10.59l5.147 4.666-1.542 6.926c-.28 1.262 1.023 2.26 2.09 1.585L12 20.099z\"></path></svg>8.1<span class=\"ipc-rating-star--voteCount\"> (<!-- -->827K<!-- -->)</span></span><button aria-label=\"Rate Logan\" class=\"ipc-rate-button sc-e2dbc1a3-1 jboOQc ratingGroup--user-rating ipc-rate-button--unrated ipc-rate-button--base\" data-testid=\"rate-button\"><span class=\"ipc-rating-star ipc-rating-star--base ipc-rating-star--rate\"><svg class=\"ipc-icon ipc-icon--star-border-inline\" fill=\"currentColor\" height=\"24\" role=\"presentation\" viewbox=\"0 0 24 24\" width=\"24\" xmlns=\"http://www.w3.org/2000/svg\"><path d=\"M22.724 8.217l-6.786-.587-2.65-6.22c-.477-1.133-2.103-1.133-2.58 0l-2.65 6.234-6.772.573c-1.234.098-1.739 1.636-.8 2.446l5.146 4.446-1.542 6.598c-.28 1.202 1.023 2.153 2.09 1.51l5.818-3.495 5.819 3.509c1.065.643 2.37-.308 2.089-1.51l-1.542-6.612 5.145-4.446c.94-.81.45-2.348-.785-2.446zm-10.726 8.89l-5.272 3.174 1.402-5.983-4.655-4.026 6.141-.531 2.384-5.634 2.398 5.648 6.14.531-4.654 4.026 1.402 5.983-5.286-3.187z\"></path></svg><span class=\"ipc-rating-star--rate\">Rate</span></span></button></div><span class=\"sc-b0691f29-11 TmkKM\"><span class=\"sc-b0901df4-0 bcQdDJ metacritic-score-box\" style=\"background-color:#54A72A\">77</span><span class=\"metacritic-score-label\">Metascore</span></span></span></div><div class=\"sc-ab6fa25a-4 ggHbBR dli-post-element\"><button aria-disabled=\"false\" aria-label=\"See more information about Logan\" class=\"ipc-icon-button dli-info-icon ipc-icon-button--base ipc-icon-button--onAccent2\" role=\"button\" tabindex=\"0\" title=\"See more information about Logan\"><svg class=\"ipc-icon ipc-icon--info\" fill=\"currentColor\" height=\"24\" role=\"presentation\" viewbox=\"0 0 24 24\" width=\"24\" xmlns=\"http://www.w3.org/2000/svg\"><path d=\"M0 0h24v24H0V0z\" fill=\"none\"></path><path d=\"M11 7h2v2h-2zm0 4h2v6h-2zm1-9C6.48 2 2 6.48 2 12s4.48 10 10 10 10-4.48 10-10S17.52 2 12 2zm0 18c-4.41 0-8-3.59-8-8s3.59-8 8-8 8 3.59 8 8-3.59 8-8 8z\"></path></svg></button></div></div><div class=\"sc-ab6fa25a-1 bBwFsP\"><div class=\"ipc-html-content ipc-html-content--base sc-ab6fa25a-0 bhexuD dli-plot-container\" role=\"presentation\"><div class=\"ipc-html-content-inner-div\">In a future where mutants are nearly extinct, an elderly and weary Logan leads a quiet life. But when Laura, a mutant child pursued by scientists, comes to him for help, he must get her to safety.</div></div></div></div>"
      ]
     },
     "execution_count": 5,
     "metadata": {},
     "output_type": "execute_result"
    }
   ],
   "source": [
    "first_movie = movie_containers[0]\n",
    "first_movie"
   ]
  },
  {
   "cell_type": "markdown",
   "id": "3fe94a7b-da94-405a-aa4f-d42564de492b",
   "metadata": {},
   "source": [
    "The name of the movie"
   ]
  },
  {
   "cell_type": "code",
   "execution_count": 6,
   "id": "a027083e-d4c4-4a97-9358-39a795406c70",
   "metadata": {},
   "outputs": [
    {
     "data": {
      "text/plain": [
       "<div class=\"sc-ab6fa25a-2 gOsifL\"><div class=\"sc-e5a25b0f-0 jQjDIb dli-poster-container\"><div class=\"ipc-poster ipc-poster--base ipc-poster--dynamic-width ipc-sub-grid-item ipc-sub-grid-item--span-2\" role=\"group\"><div aria-label=\"add to watchlist\" class=\"ipc-watchlist-ribbon ipc-focusable ipc-watchlist-ribbon--s ipc-watchlist-ribbon--base ipc-watchlist-ribbon--loading ipc-watchlist-ribbon--onImage ipc-poster__watchlist-ribbon\" role=\"button\" tabindex=\"0\"><svg class=\"ipc-watchlist-ribbon__bg\" height=\"34px\" role=\"presentation\" viewbox=\"0 0 24 34\" width=\"24px\" xmlns=\"http://www.w3.org/2000/svg\"><polygon class=\"ipc-watchlist-ribbon__bg-ribbon\" fill=\"#000000\" points=\"24 0 0 0 0 32 12.2436611 26.2926049 24 31.7728343\"></polygon><polygon class=\"ipc-watchlist-ribbon__bg-hover\" points=\"24 0 0 0 0 32 12.2436611 26.2926049 24 31.7728343\"></polygon><polygon class=\"ipc-watchlist-ribbon__bg-shadow\" points=\"24 31.7728343 24 33.7728343 12.2436611 28.2926049 0 34 0 32 12.2436611 26.2926049\"></polygon></svg><div class=\"ipc-watchlist-ribbon__icon\" role=\"presentation\"><svg class=\"ipc-loader ipc-loader--circle ipc-watchlist-ribbon__loader\" data-testid=\"watchlist-ribbon-loader\" height=\"48px\" role=\"presentation\" version=\"1.1\" viewbox=\"0 0 48 48\" width=\"48px\" xmlns=\"http://www.w3.org/2000/svg\"><g class=\"ipc-loader__container\" fill=\"currentColor\"><circle class=\"ipc-loader__circle ipc-loader__circle--one\" cx=\"24\" cy=\"9\" r=\"4\"></circle><circle class=\"ipc-loader__circle ipc-loader__circle--two\" cx=\"35\" cy=\"14\" r=\"4\"></circle><circle class=\"ipc-loader__circle ipc-loader__circle--three\" cx=\"39\" cy=\"24\" r=\"4\"></circle><circle class=\"ipc-loader__circle ipc-loader__circle--four\" cx=\"35\" cy=\"34\" r=\"4\"></circle><circle class=\"ipc-loader__circle ipc-loader__circle--five\" cx=\"24\" cy=\"39\" r=\"4\"></circle><circle class=\"ipc-loader__circle ipc-loader__circle--six\" cx=\"13\" cy=\"34\" r=\"4\"></circle><circle class=\"ipc-loader__circle ipc-loader__circle--seven\" cx=\"9\" cy=\"24\" r=\"4\"></circle><circle class=\"ipc-loader__circle ipc-loader__circle--eight\" cx=\"13\" cy=\"14\" r=\"4\"></circle></g></svg></div></div><div class=\"ipc-media ipc-media--poster-27x40 ipc-image-media-ratio--poster-27x40 ipc-media--base ipc-media--poster-m ipc-poster__poster-image ipc-media__img\" style=\"width:100%\"><img alt=\"Hugh Jackman in Logan (2017)\" class=\"ipc-image\" loading=\"lazy\" sizes=\"50vw, (min-width: 480px) 34vw, (min-width: 600px) 26vw, (min-width: 1024px) 16vw, (min-width: 1280px) 16vw\" src=\"https://m.media-amazon.com/images/M/MV5BYzc5MTU4N2EtYTkyMi00NjdhLTg3NWEtMTY4OTEyMzJhZTAzXkEyXkFqcGdeQXVyNjc1NTYyMjg@._V1_QL75_UX140_CR0,1,140,207_.jpg\" srcset=\"https://m.media-amazon.com/images/M/MV5BYzc5MTU4N2EtYTkyMi00NjdhLTg3NWEtMTY4OTEyMzJhZTAzXkEyXkFqcGdeQXVyNjc1NTYyMjg@._V1_QL75_UX140_CR0,1,140,207_.jpg 140w, https://m.media-amazon.com/images/M/MV5BYzc5MTU4N2EtYTkyMi00NjdhLTg3NWEtMTY4OTEyMzJhZTAzXkEyXkFqcGdeQXVyNjc1NTYyMjg@._V1_QL75_UX210_CR0,2,210,311_.jpg 210w, https://m.media-amazon.com/images/M/MV5BYzc5MTU4N2EtYTkyMi00NjdhLTg3NWEtMTY4OTEyMzJhZTAzXkEyXkFqcGdeQXVyNjc1NTYyMjg@._V1_QL75_UX280_CR0,3,280,414_.jpg 280w\" width=\"140\"/></div><a aria-label=\"View title page for Logan\" class=\"ipc-lockup-overlay ipc-focusable\" href=\"/title/tt3315342/?ref_=sr_i_1\"><div class=\"ipc-lockup-overlay__screen\"></div></a></div></div><div class=\"sc-b0691f29-0 jbYPfh\"><div class=\"ipc-title ipc-title--base ipc-title--title ipc-title-link-no-icon ipc-title--on-textPrimary sc-b0691f29-9 klOwFB dli-title\"><a class=\"ipc-title-link-wrapper\" href=\"/title/tt3315342/?ref_=sr_t_1\" tabindex=\"0\"><h3 class=\"ipc-title__text\">1. Logan</h3></a></div><div class=\"sc-b0691f29-7 hrgukm dli-title-metadata\"><span class=\"sc-b0691f29-8 ilsLEX dli-title-metadata-item\">2017</span><span class=\"sc-b0691f29-8 ilsLEX dli-title-metadata-item\">2h 17m</span><span class=\"sc-b0691f29-8 ilsLEX dli-title-metadata-item\">R-16</span></div><span class=\"sc-b0691f29-1 grHDBY\"><div class=\"sc-e2dbc1a3-0 ajrIH sc-b0691f29-2 bhhtyj dli-ratings-container\" data-testid=\"ratingGroup--container\"><span aria-label=\"IMDb rating: 8.1\" class=\"ipc-rating-star ipc-rating-star--base ipc-rating-star--imdb ratingGroup--imdb-rating\" data-testid=\"ratingGroup--imdb-rating\"><svg class=\"ipc-icon ipc-icon--star-inline\" fill=\"currentColor\" height=\"24\" role=\"presentation\" viewbox=\"0 0 24 24\" width=\"24\" xmlns=\"http://www.w3.org/2000/svg\"><path d=\"M12 20.1l5.82 3.682c1.066.675 2.37-.322 2.09-1.584l-1.543-6.926 5.146-4.667c.94-.85.435-2.465-.799-2.567l-6.773-.602L13.29.89a1.38 1.38 0 0 0-2.581 0l-2.65 6.53-6.774.602C.052 8.126-.453 9.74.486 10.59l5.147 4.666-1.542 6.926c-.28 1.262 1.023 2.26 2.09 1.585L12 20.099z\"></path></svg>8.1<span class=\"ipc-rating-star--voteCount\"> (<!-- -->827K<!-- -->)</span></span><button aria-label=\"Rate Logan\" class=\"ipc-rate-button sc-e2dbc1a3-1 jboOQc ratingGroup--user-rating ipc-rate-button--unrated ipc-rate-button--base\" data-testid=\"rate-button\"><span class=\"ipc-rating-star ipc-rating-star--base ipc-rating-star--rate\"><svg class=\"ipc-icon ipc-icon--star-border-inline\" fill=\"currentColor\" height=\"24\" role=\"presentation\" viewbox=\"0 0 24 24\" width=\"24\" xmlns=\"http://www.w3.org/2000/svg\"><path d=\"M22.724 8.217l-6.786-.587-2.65-6.22c-.477-1.133-2.103-1.133-2.58 0l-2.65 6.234-6.772.573c-1.234.098-1.739 1.636-.8 2.446l5.146 4.446-1.542 6.598c-.28 1.202 1.023 2.153 2.09 1.51l5.818-3.495 5.819 3.509c1.065.643 2.37-.308 2.089-1.51l-1.542-6.612 5.145-4.446c.94-.81.45-2.348-.785-2.446zm-10.726 8.89l-5.272 3.174 1.402-5.983-4.655-4.026 6.141-.531 2.384-5.634 2.398 5.648 6.14.531-4.654 4.026 1.402 5.983-5.286-3.187z\"></path></svg><span class=\"ipc-rating-star--rate\">Rate</span></span></button></div><span class=\"sc-b0691f29-11 TmkKM\"><span class=\"sc-b0901df4-0 bcQdDJ metacritic-score-box\" style=\"background-color:#54A72A\">77</span><span class=\"metacritic-score-label\">Metascore</span></span></span></div><div class=\"sc-ab6fa25a-4 ggHbBR dli-post-element\"><button aria-disabled=\"false\" aria-label=\"See more information about Logan\" class=\"ipc-icon-button dli-info-icon ipc-icon-button--base ipc-icon-button--onAccent2\" role=\"button\" tabindex=\"0\" title=\"See more information about Logan\"><svg class=\"ipc-icon ipc-icon--info\" fill=\"currentColor\" height=\"24\" role=\"presentation\" viewbox=\"0 0 24 24\" width=\"24\" xmlns=\"http://www.w3.org/2000/svg\"><path d=\"M0 0h24v24H0V0z\" fill=\"none\"></path><path d=\"M11 7h2v2h-2zm0 4h2v6h-2zm1-9C6.48 2 2 6.48 2 12s4.48 10 10 10 10-4.48 10-10S17.52 2 12 2zm0 18c-4.41 0-8-3.59-8-8s3.59-8 8-8 8 3.59 8 8-3.59 8-8 8z\"></path></svg></button></div></div>"
      ]
     },
     "execution_count": 6,
     "metadata": {},
     "output_type": "execute_result"
    }
   ],
   "source": [
    "first_movie.div"
   ]
  },
  {
   "cell_type": "code",
   "execution_count": 7,
   "id": "ac6e48a8-6a2e-4181-a9be-87b96848f85b",
   "metadata": {},
   "outputs": [
    {
     "data": {
      "text/plain": [
       "<a aria-label=\"View title page for Logan\" class=\"ipc-lockup-overlay ipc-focusable\" href=\"/title/tt3315342/?ref_=sr_i_1\"><div class=\"ipc-lockup-overlay__screen\"></div></a>"
      ]
     },
     "execution_count": 7,
     "metadata": {},
     "output_type": "execute_result"
    }
   ],
   "source": [
    "first_movie.a"
   ]
  },
  {
   "cell_type": "code",
   "execution_count": 8,
   "id": "610931f0-253c-4350-8e8a-8547b83da223",
   "metadata": {},
   "outputs": [
    {
     "data": {
      "text/plain": [
       "<h3 class=\"ipc-title__text\">1. Logan</h3>"
      ]
     },
     "execution_count": 8,
     "metadata": {},
     "output_type": "execute_result"
    }
   ],
   "source": [
    "first_movie.h3"
   ]
  },
  {
   "cell_type": "code",
   "execution_count": 69,
   "id": "5ed0a61a-709b-40dd-a0d3-ab169a85b183",
   "metadata": {},
   "outputs": [],
   "source": [
    "first_movie.h3.a"
   ]
  },
  {
   "cell_type": "code",
   "execution_count": 31,
   "id": "103087c4-39b8-4670-8862-d7e65a94f37b",
   "metadata": {},
   "outputs": [
    {
     "data": {
      "text/plain": [
       "'Logan'"
      ]
     },
     "execution_count": 31,
     "metadata": {},
     "output_type": "execute_result"
    }
   ],
   "source": [
    "first_name = first_movie.find('h3',class_ = 'ipc-title__text').text[3:]\n",
    "first_name"
   ]
  },
  {
   "cell_type": "markdown",
   "id": "84d4d2ae-d83d-45d6-a5a3-8552456da58c",
   "metadata": {},
   "source": [
    "The year of the movieʼs release"
   ]
  },
  {
   "cell_type": "code",
   "execution_count": 10,
   "id": "dc90e9e5-5038-4e81-8f1c-3d85fe296976",
   "metadata": {},
   "outputs": [
    {
     "data": {
      "text/plain": [
       "'2017'"
      ]
     },
     "execution_count": 10,
     "metadata": {},
     "output_type": "execute_result"
    }
   ],
   "source": [
    "first_year = first_movie.find('span', class_ = 'sc-b0691f29-8 ilsLEX dli-title-metadata-item').text[:]\n",
    "first_year"
   ]
  },
  {
   "cell_type": "markdown",
   "id": "9b8c4a7d-643c-47d5-a9fc-956b046c3bb9",
   "metadata": {},
   "source": [
    "The IMDB rating"
   ]
  },
  {
   "cell_type": "code",
   "execution_count": 11,
   "id": "470be27f-d47d-4be9-9036-b582f17b4d0e",
   "metadata": {},
   "outputs": [
    {
     "data": {
      "text/plain": [
       "'8.1'"
      ]
     },
     "execution_count": 11,
     "metadata": {},
     "output_type": "execute_result"
    }
   ],
   "source": [
    "rating = first_movie.find('span', class_='ipc-rating-star ipc-rating-star--base ipc-rating-star--imdb ratingGroup--imdb-rating').text[:3]\n",
    "rating"
   ]
  },
  {
   "cell_type": "markdown",
   "id": "a152f25d-5999-4930-8d26-f7368eb75e30",
   "metadata": {},
   "source": [
    "The Metascore"
   ]
  },
  {
   "cell_type": "code",
   "execution_count": 12,
   "id": "9f55a8a4-6b5a-415c-91e2-da7025b6ad59",
   "metadata": {},
   "outputs": [
    {
     "name": "stdout",
     "output_type": "stream",
     "text": [
      "77\n"
     ]
    }
   ],
   "source": [
    "first_mscore = first_movie.find('span', class_=\"sc-b0901df4-0 bcQdDJ metacritic-score-box\")\n",
    "first_mscore = int(first_mscore.text)\n",
    "print(first_mscore)"
   ]
  },
  {
   "cell_type": "markdown",
   "id": "804778da-8af6-4bd8-89c3-5b8c84538a8d",
   "metadata": {},
   "source": [
    "The number of votes"
   ]
  },
  {
   "cell_type": "code",
   "execution_count": 13,
   "id": "e5df1f36-d70d-4406-86c5-e04629acff3b",
   "metadata": {},
   "outputs": [
    {
     "data": {
      "text/plain": [
       "'827K'"
      ]
     },
     "execution_count": 13,
     "metadata": {},
     "output_type": "execute_result"
    }
   ],
   "source": [
    "votes = first_movie.find('span', class_='ipc-rating-star--voteCount').text[2:6]\n",
    "votes"
   ]
  },
  {
   "cell_type": "markdown",
   "id": "13309652-220b-4a10-9ff5-d000095b1e52",
   "metadata": {},
   "source": [
    "The script"
   ]
  },
  {
   "cell_type": "code",
   "execution_count": 37,
   "id": "0bcd4d04-cd35-4dc7-8d27-46ddee95c321",
   "metadata": {},
   "outputs": [],
   "source": [
    "# Lists to store the scraped data in\n",
    "names = []\n",
    "years = []\n",
    "imdb_ratings = []\n",
    "metascores = []\n",
    "votes = []\n",
    "# Extract data from individual movie container\n",
    "for container in movie_containers:\n",
    "    # If the movie has Metascore, then extract:\n",
    "    if container.find('span', class_ = 'sc-b0901df4-0 bcQdDJ metacritic-score-box') is not None:\n",
    "        # The name\n",
    "        name = container.find('h3',class_ = 'ipc-title__text').text[3:]\n",
    "        names.append(name)\n",
    "        # The year\n",
    "        year = container.find('span', class_ = 'sc-b0691f29-8 ilsLEX dli-title-metadata-item').text\n",
    "        years.append(year)\n",
    "        # The IMDB rating\n",
    "        imdb = container.find('span', class_='ipc-rating-star ipc-rating-star--base ipc-rating-star--imdb ratingGroup--imdb-rating').text[:3]\n",
    "        imdb_ratings.append(imdb)\n",
    "        # The Metascore\n",
    "        m_score = container.find('span', class_ = 'sc-b0901df4-0 bcQdDJ metacritic-score-box').text\n",
    "        metascores.append((m_score))\n",
    "        # The number of votes\n",
    "        vote = container.find('span', class_='ipc-rating-star--voteCount').text[2:6]\n",
    "        votes.append(vote)"
   ]
  },
  {
   "cell_type": "code",
   "execution_count": 38,
   "id": "571a87bb-5cf3-4214-8a37-69a345c62058",
   "metadata": {},
   "outputs": [
    {
     "name": "stdout",
     "output_type": "stream",
     "text": [
      "<class 'pandas.core.frame.DataFrame'>\n",
      "RangeIndex: 41 entries, 0 to 40\n",
      "Data columns (total 5 columns):\n",
      " #   Column     Non-Null Count  Dtype \n",
      "---  ------     --------------  ----- \n",
      " 0   movie      41 non-null     object\n",
      " 1   year       41 non-null     object\n",
      " 2   imdb       41 non-null     object\n",
      " 3   metascore  41 non-null     object\n",
      " 4   votes      41 non-null     object\n",
      "dtypes: object(5)\n",
      "memory usage: 1.7+ KB\n",
      "None\n"
     ]
    },
    {
     "data": {
      "text/html": [
       "<div>\n",
       "<style scoped>\n",
       "    .dataframe tbody tr th:only-of-type {\n",
       "        vertical-align: middle;\n",
       "    }\n",
       "\n",
       "    .dataframe tbody tr th {\n",
       "        vertical-align: top;\n",
       "    }\n",
       "\n",
       "    .dataframe thead th {\n",
       "        text-align: right;\n",
       "    }\n",
       "</style>\n",
       "<table border=\"1\" class=\"dataframe\">\n",
       "  <thead>\n",
       "    <tr style=\"text-align: right;\">\n",
       "      <th></th>\n",
       "      <th>movie</th>\n",
       "      <th>year</th>\n",
       "      <th>imdb</th>\n",
       "      <th>metascore</th>\n",
       "      <th>votes</th>\n",
       "    </tr>\n",
       "  </thead>\n",
       "  <tbody>\n",
       "    <tr>\n",
       "      <th>0</th>\n",
       "      <td>Logan</td>\n",
       "      <td>2017</td>\n",
       "      <td>8.1</td>\n",
       "      <td>77</td>\n",
       "      <td>827K</td>\n",
       "    </tr>\n",
       "    <tr>\n",
       "      <th>1</th>\n",
       "      <td>Thor: Ragnarok</td>\n",
       "      <td>2017</td>\n",
       "      <td>7.9</td>\n",
       "      <td>74</td>\n",
       "      <td>813K</td>\n",
       "    </tr>\n",
       "    <tr>\n",
       "      <th>2</th>\n",
       "      <td>Guardians of the Galaxy Vol. 2</td>\n",
       "      <td>2017</td>\n",
       "      <td>7.6</td>\n",
       "      <td>67</td>\n",
       "      <td>756K</td>\n",
       "    </tr>\n",
       "    <tr>\n",
       "      <th>3</th>\n",
       "      <td>Dunkirk</td>\n",
       "      <td>2017</td>\n",
       "      <td>7.8</td>\n",
       "      <td>94</td>\n",
       "      <td>736K</td>\n",
       "    </tr>\n",
       "    <tr>\n",
       "      <th>4</th>\n",
       "      <td>Spider-Man: Homecoming</td>\n",
       "      <td>2017</td>\n",
       "      <td>7.4</td>\n",
       "      <td>73</td>\n",
       "      <td>716K</td>\n",
       "    </tr>\n",
       "    <tr>\n",
       "      <th>5</th>\n",
       "      <td>Wonder Woman</td>\n",
       "      <td>2017</td>\n",
       "      <td>7.3</td>\n",
       "      <td>76</td>\n",
       "      <td>698K</td>\n",
       "    </tr>\n",
       "    <tr>\n",
       "      <th>6</th>\n",
       "      <td>Get Out</td>\n",
       "      <td>2017</td>\n",
       "      <td>7.8</td>\n",
       "      <td>85</td>\n",
       "      <td>691K</td>\n",
       "    </tr>\n",
       "    <tr>\n",
       "      <th>7</th>\n",
       "      <td>Star Wars: Episode VIII - The Last Jedi</td>\n",
       "      <td>2017</td>\n",
       "      <td>6.9</td>\n",
       "      <td>84</td>\n",
       "      <td>670K</td>\n",
       "    </tr>\n",
       "    <tr>\n",
       "      <th>8</th>\n",
       "      <td>Blade Runner 2049</td>\n",
       "      <td>2017</td>\n",
       "      <td>8.0</td>\n",
       "      <td>81</td>\n",
       "      <td>658K</td>\n",
       "    </tr>\n",
       "    <tr>\n",
       "      <th>9</th>\n",
       "      <td>Baby Driver</td>\n",
       "      <td>2017</td>\n",
       "      <td>7.5</td>\n",
       "      <td>86</td>\n",
       "      <td>605K</td>\n",
       "    </tr>\n",
       "    <tr>\n",
       "      <th>10</th>\n",
       "      <td>It</td>\n",
       "      <td>2017</td>\n",
       "      <td>7.3</td>\n",
       "      <td>69</td>\n",
       "      <td>603K</td>\n",
       "    </tr>\n",
       "    <tr>\n",
       "      <th>11</th>\n",
       "      <td>Coco</td>\n",
       "      <td>2017</td>\n",
       "      <td>8.4</td>\n",
       "      <td>81</td>\n",
       "      <td>586K</td>\n",
       "    </tr>\n",
       "    <tr>\n",
       "      <th>12</th>\n",
       "      <td>Three Billboards Outside Ebbing, Missouri</td>\n",
       "      <td>2017</td>\n",
       "      <td>8.1</td>\n",
       "      <td>88</td>\n",
       "      <td>553K</td>\n",
       "    </tr>\n",
       "    <tr>\n",
       "      <th>13</th>\n",
       "      <td>John Wick: Chapter 2</td>\n",
       "      <td>2017</td>\n",
       "      <td>7.4</td>\n",
       "      <td>75</td>\n",
       "      <td>509K</td>\n",
       "    </tr>\n",
       "    <tr>\n",
       "      <th>14</th>\n",
       "      <td>Justice League</td>\n",
       "      <td>2017</td>\n",
       "      <td>6.1</td>\n",
       "      <td>45</td>\n",
       "      <td>477K</td>\n",
       "    </tr>\n",
       "    <tr>\n",
       "      <th>15</th>\n",
       "      <td>The Shape of Water</td>\n",
       "      <td>2017</td>\n",
       "      <td>7.3</td>\n",
       "      <td>87</td>\n",
       "      <td>446K</td>\n",
       "    </tr>\n",
       "    <tr>\n",
       "      <th>16</th>\n",
       "      <td>Jumanji: Welcome to the Jungle</td>\n",
       "      <td>2017</td>\n",
       "      <td>6.9</td>\n",
       "      <td>58</td>\n",
       "      <td>436K</td>\n",
       "    </tr>\n",
       "    <tr>\n",
       "      <th>17</th>\n",
       "      <td>Kingsman: The Golden Circle</td>\n",
       "      <td>2017</td>\n",
       "      <td>6.7</td>\n",
       "      <td>44</td>\n",
       "      <td>361K</td>\n",
       "    </tr>\n",
       "    <tr>\n",
       "      <th>18</th>\n",
       "      <td>Kong: Skull Island</td>\n",
       "      <td>2017</td>\n",
       "      <td>6.7</td>\n",
       "      <td>62</td>\n",
       "      <td>345K</td>\n",
       "    </tr>\n",
       "    <tr>\n",
       "      <th>19</th>\n",
       "      <td>Pirates of the Caribbean: Salazar's Revenge</td>\n",
       "      <td>2017</td>\n",
       "      <td>6.5</td>\n",
       "      <td>39</td>\n",
       "      <td>344K</td>\n",
       "    </tr>\n",
       "    <tr>\n",
       "      <th>20</th>\n",
       "      <td>Beauty and the Beast</td>\n",
       "      <td>2017</td>\n",
       "      <td>7.1</td>\n",
       "      <td>65</td>\n",
       "      <td>333K</td>\n",
       "    </tr>\n",
       "    <tr>\n",
       "      <th>21</th>\n",
       "      <td>Lady Bird</td>\n",
       "      <td>2017</td>\n",
       "      <td>7.4</td>\n",
       "      <td>93</td>\n",
       "      <td>326K</td>\n",
       "    </tr>\n",
       "    <tr>\n",
       "      <th>22</th>\n",
       "      <td>Call Me by Your Name</td>\n",
       "      <td>2017</td>\n",
       "      <td>7.8</td>\n",
       "      <td>94</td>\n",
       "      <td>313K</td>\n",
       "    </tr>\n",
       "    <tr>\n",
       "      <th>23</th>\n",
       "      <td>The Greatest Showman</td>\n",
       "      <td>2017</td>\n",
       "      <td>7.5</td>\n",
       "      <td>48</td>\n",
       "      <td>310K</td>\n",
       "    </tr>\n",
       "    <tr>\n",
       "      <th>24</th>\n",
       "      <td>Alien: Covenant</td>\n",
       "      <td>2017</td>\n",
       "      <td>6.4</td>\n",
       "      <td>65</td>\n",
       "      <td>302K</td>\n",
       "    </tr>\n",
       "    <tr>\n",
       "      <th>25</th>\n",
       "      <td>Murder on the Orient Express</td>\n",
       "      <td>2017</td>\n",
       "      <td>6.5</td>\n",
       "      <td>52</td>\n",
       "      <td>295K</td>\n",
       "    </tr>\n",
       "    <tr>\n",
       "      <th>26</th>\n",
       "      <td>War for the Planet of the Apes</td>\n",
       "      <td>2017</td>\n",
       "      <td>7.4</td>\n",
       "      <td>82</td>\n",
       "      <td>280K</td>\n",
       "    </tr>\n",
       "    <tr>\n",
       "      <th>27</th>\n",
       "      <td>Wind River</td>\n",
       "      <td>2017</td>\n",
       "      <td>7.7</td>\n",
       "      <td>73</td>\n",
       "      <td>279K</td>\n",
       "    </tr>\n",
       "    <tr>\n",
       "      <th>28</th>\n",
       "      <td>Fast &amp; Furious 8</td>\n",
       "      <td>2017</td>\n",
       "      <td>6.6</td>\n",
       "      <td>56</td>\n",
       "      <td>253K</td>\n",
       "    </tr>\n",
       "    <tr>\n",
       "      <th>29</th>\n",
       "      <td>Life</td>\n",
       "      <td>2017</td>\n",
       "      <td>6.6</td>\n",
       "      <td>54</td>\n",
       "      <td>252K</td>\n",
       "    </tr>\n",
       "    <tr>\n",
       "      <th>30</th>\n",
       "      <td>Mother!</td>\n",
       "      <td>2017</td>\n",
       "      <td>6.6</td>\n",
       "      <td>76</td>\n",
       "      <td>249K</td>\n",
       "    </tr>\n",
       "    <tr>\n",
       "      <th>31</th>\n",
       "      <td>The Hitman's Bodyguard</td>\n",
       "      <td>2017</td>\n",
       "      <td>6.9</td>\n",
       "      <td>47</td>\n",
       "      <td>246K</td>\n",
       "    </tr>\n",
       "    <tr>\n",
       "      <th>32</th>\n",
       "      <td>I, Tonya</td>\n",
       "      <td>2017</td>\n",
       "      <td>7.5</td>\n",
       "      <td>77</td>\n",
       "      <td>242K</td>\n",
       "    </tr>\n",
       "    <tr>\n",
       "      <th>33</th>\n",
       "      <td>King Arthur: Legend of the Sword</td>\n",
       "      <td>2017</td>\n",
       "      <td>6.7</td>\n",
       "      <td>41</td>\n",
       "      <td>232K</td>\n",
       "    </tr>\n",
       "    <tr>\n",
       "      <th>34</th>\n",
       "      <td>Ghost in the Shell</td>\n",
       "      <td>2017</td>\n",
       "      <td>6.3</td>\n",
       "      <td>52</td>\n",
       "      <td>227K</td>\n",
       "    </tr>\n",
       "    <tr>\n",
       "      <th>35</th>\n",
       "      <td>Darkest Hour</td>\n",
       "      <td>2017</td>\n",
       "      <td>7.4</td>\n",
       "      <td>75</td>\n",
       "      <td>220K</td>\n",
       "    </tr>\n",
       "    <tr>\n",
       "      <th>36</th>\n",
       "      <td>American Made</td>\n",
       "      <td>2017</td>\n",
       "      <td>7.1</td>\n",
       "      <td>65</td>\n",
       "      <td>207K</td>\n",
       "    </tr>\n",
       "    <tr>\n",
       "      <th>37</th>\n",
       "      <td>Atomic Blonde</td>\n",
       "      <td>2017</td>\n",
       "      <td>6.7</td>\n",
       "      <td>63</td>\n",
       "      <td>206K</td>\n",
       "    </tr>\n",
       "    <tr>\n",
       "      <th>38</th>\n",
       "      <td>The Mummy</td>\n",
       "      <td>2017</td>\n",
       "      <td>5.4</td>\n",
       "      <td>34</td>\n",
       "      <td>206K</td>\n",
       "    </tr>\n",
       "    <tr>\n",
       "      <th>39</th>\n",
       "      <td>Baywatch</td>\n",
       "      <td>2017</td>\n",
       "      <td>5.5</td>\n",
       "      <td>37</td>\n",
       "      <td>201K</td>\n",
       "    </tr>\n",
       "    <tr>\n",
       "      <th>40</th>\n",
       "      <td>Bright</td>\n",
       "      <td>2017</td>\n",
       "      <td>6.3</td>\n",
       "      <td>29</td>\n",
       "      <td>201K</td>\n",
       "    </tr>\n",
       "  </tbody>\n",
       "</table>\n",
       "</div>"
      ],
      "text/plain": [
       "                                           movie  year imdb metascore votes\n",
       "0                                          Logan  2017  8.1        77  827K\n",
       "1                                 Thor: Ragnarok  2017  7.9        74  813K\n",
       "2                 Guardians of the Galaxy Vol. 2  2017  7.6        67  756K\n",
       "3                                        Dunkirk  2017  7.8        94  736K\n",
       "4                         Spider-Man: Homecoming  2017  7.4        73  716K\n",
       "5                                   Wonder Woman  2017  7.3        76  698K\n",
       "6                                        Get Out  2017  7.8        85  691K\n",
       "7        Star Wars: Episode VIII - The Last Jedi  2017  6.9        84  670K\n",
       "8                              Blade Runner 2049  2017  8.0        81  658K\n",
       "9                                    Baby Driver  2017  7.5        86  605K\n",
       "10                                            It  2017  7.3        69  603K\n",
       "11                                          Coco  2017  8.4        81  586K\n",
       "12     Three Billboards Outside Ebbing, Missouri  2017  8.1        88  553K\n",
       "13                          John Wick: Chapter 2  2017  7.4        75  509K\n",
       "14                                Justice League  2017  6.1        45  477K\n",
       "15                            The Shape of Water  2017  7.3        87  446K\n",
       "16                Jumanji: Welcome to the Jungle  2017  6.9        58  436K\n",
       "17                   Kingsman: The Golden Circle  2017  6.7        44  361K\n",
       "18                            Kong: Skull Island  2017  6.7        62  345K\n",
       "19   Pirates of the Caribbean: Salazar's Revenge  2017  6.5        39  344K\n",
       "20                          Beauty and the Beast  2017  7.1        65  333K\n",
       "21                                     Lady Bird  2017  7.4        93  326K\n",
       "22                          Call Me by Your Name  2017  7.8        94  313K\n",
       "23                          The Greatest Showman  2017  7.5        48  310K\n",
       "24                               Alien: Covenant  2017  6.4        65  302K\n",
       "25                  Murder on the Orient Express  2017  6.5        52  295K\n",
       "26                War for the Planet of the Apes  2017  7.4        82  280K\n",
       "27                                    Wind River  2017  7.7        73  279K\n",
       "28                              Fast & Furious 8  2017  6.6        56  253K\n",
       "29                                          Life  2017  6.6        54  252K\n",
       "30                                       Mother!  2017  6.6        76  249K\n",
       "31                        The Hitman's Bodyguard  2017  6.9        47  246K\n",
       "32                                      I, Tonya  2017  7.5        77  242K\n",
       "33              King Arthur: Legend of the Sword  2017  6.7        41  232K\n",
       "34                            Ghost in the Shell  2017  6.3        52  227K\n",
       "35                                  Darkest Hour  2017  7.4        75  220K\n",
       "36                                 American Made  2017  7.1        65  207K\n",
       "37                                 Atomic Blonde  2017  6.7        63  206K\n",
       "38                                     The Mummy  2017  5.4        34  206K\n",
       "39                                      Baywatch  2017  5.5        37  201K\n",
       "40                                        Bright  2017  6.3        29  201K"
      ]
     },
     "execution_count": 38,
     "metadata": {},
     "output_type": "execute_result"
    }
   ],
   "source": [
    "import pandas as pd\n",
    "test_df = pd.DataFrame({'movie': names,\n",
    "                        'year': years,\n",
    "                        'imdb': imdb_ratings,\n",
    "                        'metascore': metascores,\n",
    "                        'votes': votes\n",
    "                       })\n",
    "print(test_df.info())\n",
    "test_df"
   ]
  },
  {
   "cell_type": "markdown",
   "id": "be889d56-36b3-42ea-bf66-b4de0946476b",
   "metadata": {},
   "source": [
    "The script for multiple pages"
   ]
  },
  {
   "cell_type": "code",
   "execution_count": 39,
   "id": "cb1556d2-e3c5-4271-9279-a644b6c690ca",
   "metadata": {},
   "outputs": [
    {
     "name": "stdout",
     "output_type": "stream",
     "text": [
      "<!DOCTYPE html><html lang=\"en-US\" xmlns:og=\"http://opengraphprotocol.org/schema/\" xmlns:fb=\"http://www.facebook.com/2008/fbml\"><head><meta charSet=\"utf-8\"/><meta name=\"viewport\" content=\"width=device-width\"/><script>if(typeof uet === 'function'){ uet('bb', 'LoadTitle', {wb: 1}); }</script><script>window.addEventListener('load', (event) => {\n",
      "        if (typeof window.csa !== 'undefined' && typeof window.csa === 'function') {\n",
      "            var csaLatencyPlugin = window.csa('Content', {\n",
      "             \n",
      "Request:20; Frequency: 0.06046874871419513 requests/s\n"
     ]
    }
   ],
   "source": [
    "from time import time\n",
    "from time import sleep\n",
    "from random import randint\n",
    "from IPython.core.display import clear_output\n",
    "from requests import get\n",
    "pages = [ '1','2','3','4','5']\n",
    "years_url = [ '2017', '2018', '2019', '2020']\n",
    "# Redeclaring the lists to store data in\n",
    "names = []\n",
    "years = []\n",
    "imdb_ratings = []\n",
    "metascores = []\n",
    "votes = []\n",
    "# Preparing the monitoring of the loop\n",
    "start_time = time()\n",
    "requests = 0\n",
    "# For every year in the interval 2000-2017\n",
    "for year_url in years_url:\n",
    "    # For every page in the interval 1-4\n",
    "    for page in pages:\n",
    "        # Make a get request\n",
    "        url = 'https://www.imdb.com/search/title?release_date=2017&sort=num_votes,desc&page=1'\n",
    "        useragent = {\"User-Agent\":\"Mozilla/5.0 (Windows NT 10.0; Win64; x64) AppleWebKit/537.36 (KHTML, like Gecko) Chrome/123.0.0.0 Safari/537.36\"}\n",
    "        response = get(url, headers= useragent)\n",
    "        print(response.text[:500])\n",
    "        # Pause the loop\n",
    "        sleep(randint(8,15))\n",
    "        # Monitor the requests\n",
    "        requests += 1\n",
    "        elapsed_time = time() - start_time\n",
    "        print('Request:{}; Frequency: {} requests/s'.format(requests, requests/elapsed_time))\n",
    "        clear_output(wait = True)\n",
    "        # Throw a warning for non-200 status codes\n",
    "        if response.status_code != 200:\n",
    "            print('Request: {}; Status code: {}'.format(requests, response.status_code))\n",
    "            # Break the loop if the number of requests is greater than expected\n",
    "        if requests > 72:\n",
    "            print('Number of requests was greater than expected.')\n",
    "            break\n",
    "        # Parse the content of the request with BeautifulSoup\n",
    "        page_html = BeautifulSoup(response.text, 'html.parser')\n",
    "        # Select all the 50 movie containers from a single page\n",
    "        mv_containers = page_html.find_all('div', class_ = 'sc-ab6fa25a-3 bVYfLY dli-parent')\n",
    "        # For every movie of these 50\n",
    "        for container in mv_containers:\n",
    "        # If the movie has a Metascore, then:\n",
    "            if container.find('span', class_ = 'sc-b0901df4-0 bcQdDJ metacritic-score-box') is not None:\n",
    "                name = container.find('h3',class_ = 'ipc-title__text').text[3:]\n",
    "                names.append(name)\n",
    "                year = container.find('span', class_ = 'sc-b0691f29-8 ilsLEX dli-title-metadata-item').text\n",
    "                years.append(year)\n",
    "                imdb = container.find('span', class_='ipc-rating-star ipc-rating-star--base ipc-rating-star--imdb ratingGroup--imdb-rating').text[:3]\n",
    "                imdb_ratings.append(imdb)\n",
    "                m_score = container.find('span', class_ = 'sc-b0901df4-0 bcQdDJ metacritic-score-box').text\n",
    "                metascores.append((m_score))\n",
    "                vote = container.find('span', class_='ipc-rating-star--voteCount').text[2:6]\n",
    "                votes.append(vote)"
   ]
  },
  {
   "cell_type": "code",
   "execution_count": 40,
   "id": "11998749-80c3-45ff-95c7-06f458562f70",
   "metadata": {},
   "outputs": [
    {
     "name": "stdout",
     "output_type": "stream",
     "text": [
      "<class 'pandas.core.frame.DataFrame'>\n",
      "RangeIndex: 820 entries, 0 to 819\n",
      "Data columns (total 5 columns):\n",
      " #   Column     Non-Null Count  Dtype \n",
      "---  ------     --------------  ----- \n",
      " 0   movie      820 non-null    object\n",
      " 1   year       820 non-null    object\n",
      " 2   imdb       820 non-null    object\n",
      " 3   metascore  820 non-null    object\n",
      " 4   votes      820 non-null    object\n",
      "dtypes: object(5)\n",
      "memory usage: 32.2+ KB\n",
      "None\n"
     ]
    },
    {
     "data": {
      "text/html": [
       "<div>\n",
       "<style scoped>\n",
       "    .dataframe tbody tr th:only-of-type {\n",
       "        vertical-align: middle;\n",
       "    }\n",
       "\n",
       "    .dataframe tbody tr th {\n",
       "        vertical-align: top;\n",
       "    }\n",
       "\n",
       "    .dataframe thead th {\n",
       "        text-align: right;\n",
       "    }\n",
       "</style>\n",
       "<table border=\"1\" class=\"dataframe\">\n",
       "  <thead>\n",
       "    <tr style=\"text-align: right;\">\n",
       "      <th></th>\n",
       "      <th>movie</th>\n",
       "      <th>year</th>\n",
       "      <th>imdb</th>\n",
       "      <th>metascore</th>\n",
       "      <th>votes</th>\n",
       "    </tr>\n",
       "  </thead>\n",
       "  <tbody>\n",
       "    <tr>\n",
       "      <th>0</th>\n",
       "      <td>Logan</td>\n",
       "      <td>2017</td>\n",
       "      <td>8.1</td>\n",
       "      <td>77</td>\n",
       "      <td>827K</td>\n",
       "    </tr>\n",
       "    <tr>\n",
       "      <th>1</th>\n",
       "      <td>Thor: Ragnarok</td>\n",
       "      <td>2017</td>\n",
       "      <td>7.9</td>\n",
       "      <td>74</td>\n",
       "      <td>813K</td>\n",
       "    </tr>\n",
       "    <tr>\n",
       "      <th>2</th>\n",
       "      <td>Guardians of the Galaxy Vol. 2</td>\n",
       "      <td>2017</td>\n",
       "      <td>7.6</td>\n",
       "      <td>67</td>\n",
       "      <td>756K</td>\n",
       "    </tr>\n",
       "    <tr>\n",
       "      <th>3</th>\n",
       "      <td>Dunkirk</td>\n",
       "      <td>2017</td>\n",
       "      <td>7.8</td>\n",
       "      <td>94</td>\n",
       "      <td>736K</td>\n",
       "    </tr>\n",
       "    <tr>\n",
       "      <th>4</th>\n",
       "      <td>Spider-Man: Homecoming</td>\n",
       "      <td>2017</td>\n",
       "      <td>7.4</td>\n",
       "      <td>73</td>\n",
       "      <td>716K</td>\n",
       "    </tr>\n",
       "    <tr>\n",
       "      <th>5</th>\n",
       "      <td>Wonder Woman</td>\n",
       "      <td>2017</td>\n",
       "      <td>7.3</td>\n",
       "      <td>76</td>\n",
       "      <td>698K</td>\n",
       "    </tr>\n",
       "    <tr>\n",
       "      <th>6</th>\n",
       "      <td>Get Out</td>\n",
       "      <td>2017</td>\n",
       "      <td>7.8</td>\n",
       "      <td>85</td>\n",
       "      <td>691K</td>\n",
       "    </tr>\n",
       "    <tr>\n",
       "      <th>7</th>\n",
       "      <td>Star Wars: Episode VIII - The Last Jedi</td>\n",
       "      <td>2017</td>\n",
       "      <td>6.9</td>\n",
       "      <td>84</td>\n",
       "      <td>670K</td>\n",
       "    </tr>\n",
       "    <tr>\n",
       "      <th>8</th>\n",
       "      <td>Blade Runner 2049</td>\n",
       "      <td>2017</td>\n",
       "      <td>8.0</td>\n",
       "      <td>81</td>\n",
       "      <td>658K</td>\n",
       "    </tr>\n",
       "    <tr>\n",
       "      <th>9</th>\n",
       "      <td>Baby Driver</td>\n",
       "      <td>2017</td>\n",
       "      <td>7.5</td>\n",
       "      <td>86</td>\n",
       "      <td>605K</td>\n",
       "    </tr>\n",
       "  </tbody>\n",
       "</table>\n",
       "</div>"
      ],
      "text/plain": [
       "                                     movie  year imdb metascore votes\n",
       "0                                    Logan  2017  8.1        77  827K\n",
       "1                           Thor: Ragnarok  2017  7.9        74  813K\n",
       "2           Guardians of the Galaxy Vol. 2  2017  7.6        67  756K\n",
       "3                                  Dunkirk  2017  7.8        94  736K\n",
       "4                   Spider-Man: Homecoming  2017  7.4        73  716K\n",
       "5                             Wonder Woman  2017  7.3        76  698K\n",
       "6                                  Get Out  2017  7.8        85  691K\n",
       "7  Star Wars: Episode VIII - The Last Jedi  2017  6.9        84  670K\n",
       "8                        Blade Runner 2049  2017  8.0        81  658K\n",
       "9                              Baby Driver  2017  7.5        86  605K"
      ]
     },
     "execution_count": 40,
     "metadata": {},
     "output_type": "execute_result"
    }
   ],
   "source": [
    "movie_ratings = pd.DataFrame({'movie': names,\n",
    "                              'year': years,\n",
    "                              'imdb': imdb_ratings,\n",
    "                              'metascore': metascores,\n",
    "                              'votes': votes\n",
    "                             })\n",
    "print(movie_ratings.info())\n",
    "movie_ratings.head(10)"
   ]
  },
  {
   "cell_type": "code",
   "execution_count": 41,
   "id": "4ac4ccf7-74ff-4930-ac1d-404e77f8e794",
   "metadata": {},
   "outputs": [
    {
     "data": {
      "text/html": [
       "<div>\n",
       "<style scoped>\n",
       "    .dataframe tbody tr th:only-of-type {\n",
       "        vertical-align: middle;\n",
       "    }\n",
       "\n",
       "    .dataframe tbody tr th {\n",
       "        vertical-align: top;\n",
       "    }\n",
       "\n",
       "    .dataframe thead th {\n",
       "        text-align: right;\n",
       "    }\n",
       "</style>\n",
       "<table border=\"1\" class=\"dataframe\">\n",
       "  <thead>\n",
       "    <tr style=\"text-align: right;\">\n",
       "      <th></th>\n",
       "      <th>movie</th>\n",
       "      <th>year</th>\n",
       "      <th>imdb</th>\n",
       "      <th>metascore</th>\n",
       "      <th>votes</th>\n",
       "    </tr>\n",
       "  </thead>\n",
       "  <tbody>\n",
       "    <tr>\n",
       "      <th>810</th>\n",
       "      <td>The Hitman's Bodyguard</td>\n",
       "      <td>2017</td>\n",
       "      <td>6.9</td>\n",
       "      <td>47</td>\n",
       "      <td>246K</td>\n",
       "    </tr>\n",
       "    <tr>\n",
       "      <th>811</th>\n",
       "      <td>I, Tonya</td>\n",
       "      <td>2017</td>\n",
       "      <td>7.5</td>\n",
       "      <td>77</td>\n",
       "      <td>242K</td>\n",
       "    </tr>\n",
       "    <tr>\n",
       "      <th>812</th>\n",
       "      <td>King Arthur: Legend of the Sword</td>\n",
       "      <td>2017</td>\n",
       "      <td>6.7</td>\n",
       "      <td>41</td>\n",
       "      <td>232K</td>\n",
       "    </tr>\n",
       "    <tr>\n",
       "      <th>813</th>\n",
       "      <td>Ghost in the Shell</td>\n",
       "      <td>2017</td>\n",
       "      <td>6.3</td>\n",
       "      <td>52</td>\n",
       "      <td>227K</td>\n",
       "    </tr>\n",
       "    <tr>\n",
       "      <th>814</th>\n",
       "      <td>Darkest Hour</td>\n",
       "      <td>2017</td>\n",
       "      <td>7.4</td>\n",
       "      <td>75</td>\n",
       "      <td>220K</td>\n",
       "    </tr>\n",
       "    <tr>\n",
       "      <th>815</th>\n",
       "      <td>American Made</td>\n",
       "      <td>2017</td>\n",
       "      <td>7.1</td>\n",
       "      <td>65</td>\n",
       "      <td>207K</td>\n",
       "    </tr>\n",
       "    <tr>\n",
       "      <th>816</th>\n",
       "      <td>Atomic Blonde</td>\n",
       "      <td>2017</td>\n",
       "      <td>6.7</td>\n",
       "      <td>63</td>\n",
       "      <td>206K</td>\n",
       "    </tr>\n",
       "    <tr>\n",
       "      <th>817</th>\n",
       "      <td>The Mummy</td>\n",
       "      <td>2017</td>\n",
       "      <td>5.4</td>\n",
       "      <td>34</td>\n",
       "      <td>206K</td>\n",
       "    </tr>\n",
       "    <tr>\n",
       "      <th>818</th>\n",
       "      <td>Baywatch</td>\n",
       "      <td>2017</td>\n",
       "      <td>5.5</td>\n",
       "      <td>37</td>\n",
       "      <td>201K</td>\n",
       "    </tr>\n",
       "    <tr>\n",
       "      <th>819</th>\n",
       "      <td>Bright</td>\n",
       "      <td>2017</td>\n",
       "      <td>6.3</td>\n",
       "      <td>29</td>\n",
       "      <td>201K</td>\n",
       "    </tr>\n",
       "  </tbody>\n",
       "</table>\n",
       "</div>"
      ],
      "text/plain": [
       "                                 movie  year imdb metascore votes\n",
       "810             The Hitman's Bodyguard  2017  6.9        47  246K\n",
       "811                           I, Tonya  2017  7.5        77  242K\n",
       "812   King Arthur: Legend of the Sword  2017  6.7        41  232K\n",
       "813                 Ghost in the Shell  2017  6.3        52  227K\n",
       "814                       Darkest Hour  2017  7.4        75  220K\n",
       "815                      American Made  2017  7.1        65  207K\n",
       "816                      Atomic Blonde  2017  6.7        63  206K\n",
       "817                          The Mummy  2017  5.4        34  206K\n",
       "818                           Baywatch  2017  5.5        37  201K\n",
       "819                             Bright  2017  6.3        29  201K"
      ]
     },
     "execution_count": 41,
     "metadata": {},
     "output_type": "execute_result"
    }
   ],
   "source": [
    "movie_ratings.tail(10)"
   ]
  },
  {
   "cell_type": "code",
   "execution_count": 45,
   "id": "6f6eaf10-4746-4613-9811-7d1ad119f501",
   "metadata": {},
   "outputs": [],
   "source": [
    "movie_ratings.to_csv('movie_ratings.csv')"
   ]
  },
  {
   "cell_type": "markdown",
   "id": "4975fc59-c565-45e7-8eab-46c8e4f719d0",
   "metadata": {},
   "source": [
    "# **Data Preparation**"
   ]
  },
  {
   "cell_type": "markdown",
   "id": "04402fa7-155d-45ec-9ed2-3ba8fbf12fc0",
   "metadata": {},
   "source": [
    "Example of Data Preparation of movie_rating.csv"
   ]
  },
  {
   "cell_type": "code",
   "execution_count": 46,
   "id": "33b305fc-c5cc-4078-abc6-74c578c1faa7",
   "metadata": {},
   "outputs": [
    {
     "data": {
      "text/plain": [
       "array(['2017'], dtype=object)"
      ]
     },
     "execution_count": 46,
     "metadata": {},
     "output_type": "execute_result"
    }
   ],
   "source": [
    "movie_ratings['year'].unique()"
   ]
  },
  {
   "cell_type": "code",
   "execution_count": 47,
   "id": "e87a6e47-b5cd-41f6-91f9-9e6c4c0ee78e",
   "metadata": {},
   "outputs": [
    {
     "data": {
      "text/plain": [
       "movie        object\n",
       "year         object\n",
       "imdb         object\n",
       "metascore    object\n",
       "votes        object\n",
       "dtype: object"
      ]
     },
     "execution_count": 47,
     "metadata": {},
     "output_type": "execute_result"
    }
   ],
   "source": [
    "movie_ratings.dtypes"
   ]
  },
  {
   "cell_type": "code",
   "execution_count": 48,
   "id": "6a5bf3a8-1d80-4a1a-8d1e-f97e7165a81a",
   "metadata": {},
   "outputs": [],
   "source": [
    "movie_ratings['year'] = (movie_ratings.year.apply(lambda x:x.replace('(I)','')))"
   ]
  },
  {
   "cell_type": "code",
   "execution_count": 49,
   "id": "0db21ef0-749b-4b89-8fb3-41fe32d831f2",
   "metadata": {},
   "outputs": [],
   "source": [
    "movie_ratings['year'] = (movie_ratings.year.apply(lambda x:x.replace('(III)','')))"
   ]
  },
  {
   "cell_type": "code",
   "execution_count": 50,
   "id": "b07871ce-79fd-4f22-bab1-4ed350714b7e",
   "metadata": {},
   "outputs": [
    {
     "data": {
      "text/plain": [
       "array(['2017'], dtype=object)"
      ]
     },
     "execution_count": 50,
     "metadata": {},
     "output_type": "execute_result"
    }
   ],
   "source": [
    "movie_ratings['year'].unique()"
   ]
  },
  {
   "cell_type": "code",
   "execution_count": 51,
   "id": "ddda45c8-da5c-428e-b3ba-685facbb92bc",
   "metadata": {},
   "outputs": [],
   "source": [
    "movie_ratings['year'] = (movie_ratings.year.apply(lambda x:x.replace('(','')))"
   ]
  },
  {
   "cell_type": "code",
   "execution_count": 52,
   "id": "639b9a03-7051-4164-8a7e-fbac0ee8ddfd",
   "metadata": {},
   "outputs": [
    {
     "data": {
      "text/plain": [
       "array(['2017'], dtype=object)"
      ]
     },
     "execution_count": 52,
     "metadata": {},
     "output_type": "execute_result"
    }
   ],
   "source": [
    "movie_ratings['year'].unique()"
   ]
  },
  {
   "cell_type": "code",
   "execution_count": 53,
   "id": "9d61c92c-3d74-4ebb-a50b-2c47078745f9",
   "metadata": {},
   "outputs": [],
   "source": [
    "movie_ratings['year'] = (movie_ratings.year.apply(lambda x:x.replace(')','')))"
   ]
  },
  {
   "cell_type": "code",
   "execution_count": 54,
   "id": "f74e7095-5862-4c5d-929f-2aa52a35c049",
   "metadata": {},
   "outputs": [
    {
     "data": {
      "text/plain": [
       "array(['2017'], dtype=object)"
      ]
     },
     "execution_count": 54,
     "metadata": {},
     "output_type": "execute_result"
    }
   ],
   "source": [
    "movie_ratings['year'].unique()"
   ]
  },
  {
   "cell_type": "code",
   "execution_count": 55,
   "id": "aa0cc680-5a95-4710-8072-dafaa30e1ee4",
   "metadata": {},
   "outputs": [],
   "source": [
    "movie_ratings['year'] = movie_ratings['year'].astype(int)"
   ]
  },
  {
   "cell_type": "code",
   "execution_count": 56,
   "id": "0371bd29-5887-4dd3-995e-a17b248ec59c",
   "metadata": {},
   "outputs": [
    {
     "data": {
      "text/plain": [
       "array([2017])"
      ]
     },
     "execution_count": 56,
     "metadata": {},
     "output_type": "execute_result"
    }
   ],
   "source": [
    "movie_ratings['year'].unique()"
   ]
  },
  {
   "cell_type": "code",
   "execution_count": 57,
   "id": "8a2a5d60-3897-432b-9da0-bf695d8cf084",
   "metadata": {},
   "outputs": [
    {
     "data": {
      "text/plain": [
       "movie        object\n",
       "year          int32\n",
       "imdb         object\n",
       "metascore    object\n",
       "votes        object\n",
       "dtype: object"
      ]
     },
     "execution_count": 57,
     "metadata": {},
     "output_type": "execute_result"
    }
   ],
   "source": [
    "movie_ratings.dtypes"
   ]
  },
  {
   "cell_type": "code",
   "execution_count": 58,
   "id": "eb13f233-ba28-416e-aab7-b8577b4852f1",
   "metadata": {},
   "outputs": [
    {
     "data": {
      "text/html": [
       "<div>\n",
       "<style scoped>\n",
       "    .dataframe tbody tr th:only-of-type {\n",
       "        vertical-align: middle;\n",
       "    }\n",
       "\n",
       "    .dataframe tbody tr th {\n",
       "        vertical-align: top;\n",
       "    }\n",
       "\n",
       "    .dataframe thead th {\n",
       "        text-align: right;\n",
       "    }\n",
       "</style>\n",
       "<table border=\"1\" class=\"dataframe\">\n",
       "  <thead>\n",
       "    <tr style=\"text-align: right;\">\n",
       "      <th></th>\n",
       "      <th>movie</th>\n",
       "      <th>year</th>\n",
       "      <th>imdb</th>\n",
       "      <th>metascore</th>\n",
       "      <th>votes</th>\n",
       "    </tr>\n",
       "  </thead>\n",
       "  <tbody>\n",
       "    <tr>\n",
       "      <th>0</th>\n",
       "      <td>Logan</td>\n",
       "      <td>2017</td>\n",
       "      <td>8.1</td>\n",
       "      <td>77</td>\n",
       "      <td>827K</td>\n",
       "    </tr>\n",
       "    <tr>\n",
       "      <th>1</th>\n",
       "      <td>Thor: Ragnarok</td>\n",
       "      <td>2017</td>\n",
       "      <td>7.9</td>\n",
       "      <td>74</td>\n",
       "      <td>813K</td>\n",
       "    </tr>\n",
       "    <tr>\n",
       "      <th>2</th>\n",
       "      <td>Guardians of the Galaxy Vol. 2</td>\n",
       "      <td>2017</td>\n",
       "      <td>7.6</td>\n",
       "      <td>67</td>\n",
       "      <td>756K</td>\n",
       "    </tr>\n",
       "    <tr>\n",
       "      <th>3</th>\n",
       "      <td>Dunkirk</td>\n",
       "      <td>2017</td>\n",
       "      <td>7.8</td>\n",
       "      <td>94</td>\n",
       "      <td>736K</td>\n",
       "    </tr>\n",
       "    <tr>\n",
       "      <th>4</th>\n",
       "      <td>Spider-Man: Homecoming</td>\n",
       "      <td>2017</td>\n",
       "      <td>7.4</td>\n",
       "      <td>73</td>\n",
       "      <td>716K</td>\n",
       "    </tr>\n",
       "    <tr>\n",
       "      <th>5</th>\n",
       "      <td>Wonder Woman</td>\n",
       "      <td>2017</td>\n",
       "      <td>7.3</td>\n",
       "      <td>76</td>\n",
       "      <td>698K</td>\n",
       "    </tr>\n",
       "    <tr>\n",
       "      <th>6</th>\n",
       "      <td>Get Out</td>\n",
       "      <td>2017</td>\n",
       "      <td>7.8</td>\n",
       "      <td>85</td>\n",
       "      <td>691K</td>\n",
       "    </tr>\n",
       "    <tr>\n",
       "      <th>7</th>\n",
       "      <td>Star Wars: Episode VIII - The Last Jedi</td>\n",
       "      <td>2017</td>\n",
       "      <td>6.9</td>\n",
       "      <td>84</td>\n",
       "      <td>670K</td>\n",
       "    </tr>\n",
       "    <tr>\n",
       "      <th>8</th>\n",
       "      <td>Blade Runner 2049</td>\n",
       "      <td>2017</td>\n",
       "      <td>8.0</td>\n",
       "      <td>81</td>\n",
       "      <td>658K</td>\n",
       "    </tr>\n",
       "    <tr>\n",
       "      <th>9</th>\n",
       "      <td>Baby Driver</td>\n",
       "      <td>2017</td>\n",
       "      <td>7.5</td>\n",
       "      <td>86</td>\n",
       "      <td>605K</td>\n",
       "    </tr>\n",
       "  </tbody>\n",
       "</table>\n",
       "</div>"
      ],
      "text/plain": [
       "                                     movie  year imdb metascore votes\n",
       "0                                    Logan  2017  8.1        77  827K\n",
       "1                           Thor: Ragnarok  2017  7.9        74  813K\n",
       "2           Guardians of the Galaxy Vol. 2  2017  7.6        67  756K\n",
       "3                                  Dunkirk  2017  7.8        94  736K\n",
       "4                   Spider-Man: Homecoming  2017  7.4        73  716K\n",
       "5                             Wonder Woman  2017  7.3        76  698K\n",
       "6                                  Get Out  2017  7.8        85  691K\n",
       "7  Star Wars: Episode VIII - The Last Jedi  2017  6.9        84  670K\n",
       "8                        Blade Runner 2049  2017  8.0        81  658K\n",
       "9                              Baby Driver  2017  7.5        86  605K"
      ]
     },
     "execution_count": 58,
     "metadata": {},
     "output_type": "execute_result"
    }
   ],
   "source": [
    "movie_ratings.head(10)"
   ]
  },
  {
   "cell_type": "code",
   "execution_count": 59,
   "id": "b10b11d6-30df-4f91-a710-8e6db728a00b",
   "metadata": {},
   "outputs": [
    {
     "data": {
      "text/html": [
       "<div>\n",
       "<style scoped>\n",
       "    .dataframe tbody tr th:only-of-type {\n",
       "        vertical-align: middle;\n",
       "    }\n",
       "\n",
       "    .dataframe tbody tr th {\n",
       "        vertical-align: top;\n",
       "    }\n",
       "\n",
       "    .dataframe thead th {\n",
       "        text-align: right;\n",
       "    }\n",
       "</style>\n",
       "<table border=\"1\" class=\"dataframe\">\n",
       "  <thead>\n",
       "    <tr style=\"text-align: right;\">\n",
       "      <th></th>\n",
       "      <th>movie</th>\n",
       "      <th>year</th>\n",
       "      <th>imdb</th>\n",
       "      <th>metascore</th>\n",
       "      <th>votes</th>\n",
       "    </tr>\n",
       "  </thead>\n",
       "  <tbody>\n",
       "    <tr>\n",
       "      <th>0</th>\n",
       "      <td>Logan</td>\n",
       "      <td>2017</td>\n",
       "      <td>8.1</td>\n",
       "      <td>77</td>\n",
       "      <td>827K</td>\n",
       "    </tr>\n",
       "    <tr>\n",
       "      <th>1</th>\n",
       "      <td>Thor: Ragnarok</td>\n",
       "      <td>2017</td>\n",
       "      <td>7.9</td>\n",
       "      <td>74</td>\n",
       "      <td>813K</td>\n",
       "    </tr>\n",
       "    <tr>\n",
       "      <th>2</th>\n",
       "      <td>Guardians of the Galaxy Vol. 2</td>\n",
       "      <td>2017</td>\n",
       "      <td>7.6</td>\n",
       "      <td>67</td>\n",
       "      <td>756K</td>\n",
       "    </tr>\n",
       "    <tr>\n",
       "      <th>3</th>\n",
       "      <td>Dunkirk</td>\n",
       "      <td>2017</td>\n",
       "      <td>7.8</td>\n",
       "      <td>94</td>\n",
       "      <td>736K</td>\n",
       "    </tr>\n",
       "    <tr>\n",
       "      <th>4</th>\n",
       "      <td>Spider-Man: Homecoming</td>\n",
       "      <td>2017</td>\n",
       "      <td>7.4</td>\n",
       "      <td>73</td>\n",
       "      <td>716K</td>\n",
       "    </tr>\n",
       "    <tr>\n",
       "      <th>...</th>\n",
       "      <td>...</td>\n",
       "      <td>...</td>\n",
       "      <td>...</td>\n",
       "      <td>...</td>\n",
       "      <td>...</td>\n",
       "    </tr>\n",
       "    <tr>\n",
       "      <th>815</th>\n",
       "      <td>American Made</td>\n",
       "      <td>2017</td>\n",
       "      <td>7.1</td>\n",
       "      <td>65</td>\n",
       "      <td>207K</td>\n",
       "    </tr>\n",
       "    <tr>\n",
       "      <th>816</th>\n",
       "      <td>Atomic Blonde</td>\n",
       "      <td>2017</td>\n",
       "      <td>6.7</td>\n",
       "      <td>63</td>\n",
       "      <td>206K</td>\n",
       "    </tr>\n",
       "    <tr>\n",
       "      <th>817</th>\n",
       "      <td>The Mummy</td>\n",
       "      <td>2017</td>\n",
       "      <td>5.4</td>\n",
       "      <td>34</td>\n",
       "      <td>206K</td>\n",
       "    </tr>\n",
       "    <tr>\n",
       "      <th>818</th>\n",
       "      <td>Baywatch</td>\n",
       "      <td>2017</td>\n",
       "      <td>5.5</td>\n",
       "      <td>37</td>\n",
       "      <td>201K</td>\n",
       "    </tr>\n",
       "    <tr>\n",
       "      <th>819</th>\n",
       "      <td>Bright</td>\n",
       "      <td>2017</td>\n",
       "      <td>6.3</td>\n",
       "      <td>29</td>\n",
       "      <td>201K</td>\n",
       "    </tr>\n",
       "  </tbody>\n",
       "</table>\n",
       "<p>820 rows × 5 columns</p>\n",
       "</div>"
      ],
      "text/plain": [
       "                              movie  year imdb metascore votes\n",
       "0                             Logan  2017  8.1        77  827K\n",
       "1                    Thor: Ragnarok  2017  7.9        74  813K\n",
       "2    Guardians of the Galaxy Vol. 2  2017  7.6        67  756K\n",
       "3                           Dunkirk  2017  7.8        94  736K\n",
       "4            Spider-Man: Homecoming  2017  7.4        73  716K\n",
       "..                              ...   ...  ...       ...   ...\n",
       "815                   American Made  2017  7.1        65  207K\n",
       "816                   Atomic Blonde  2017  6.7        63  206K\n",
       "817                       The Mummy  2017  5.4        34  206K\n",
       "818                        Baywatch  2017  5.5        37  201K\n",
       "819                          Bright  2017  6.3        29  201K\n",
       "\n",
       "[820 rows x 5 columns]"
      ]
     },
     "execution_count": 59,
     "metadata": {},
     "output_type": "execute_result"
    }
   ],
   "source": [
    "movie_ratings"
   ]
  }
 ],
 "metadata": {
  "kernelspec": {
   "display_name": "Python 3 (ipykernel)",
   "language": "python",
   "name": "python3"
  },
  "language_info": {
   "codemirror_mode": {
    "name": "ipython",
    "version": 3
   },
   "file_extension": ".py",
   "mimetype": "text/x-python",
   "name": "python",
   "nbconvert_exporter": "python",
   "pygments_lexer": "ipython3",
   "version": "3.11.7"
  }
 },
 "nbformat": 4,
 "nbformat_minor": 5
}
